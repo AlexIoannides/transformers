{
 "cells": [
  {
   "attachments": {},
   "cell_type": "markdown",
   "metadata": {},
   "source": [
    "# Transformers for Sentiment Analysis\n",
    "\n",
    "We're going to demonstrate how to use a pre-trained language model as the foundation for another model - for predicting the sentiment of a movie review (as positive or negative)."
   ]
  },
  {
   "attachments": {},
   "cell_type": "markdown",
   "metadata": {},
   "source": [
    "## Imports\n",
    "\n",
    "We will lean heavily on our `modelling` package for handling the datasets, loading pre-trained models and adapting them to the classification task, for which we will also need to import PyTorch."
   ]
  },
  {
   "cell_type": "code",
   "execution_count": 1,
   "metadata": {},
   "outputs": [],
   "source": [
    "import math\n",
    "import warnings\n",
    "\n",
    "import torch\n",
    "import torch.nn as nn\n",
    "import torch.nn.functional as F\n",
    "from torch.optim import Adam\n",
    "from torch.utils.data import DataLoader\n",
    "from tqdm import tqdm\n",
    "\n",
    "from modelling import data, utils\n",
    "from modelling import transformer as tfr\n",
    "\n",
    "warnings.filterwarnings(\"ignore\")"
   ]
  },
  {
   "attachments": {},
   "cell_type": "markdown",
   "metadata": {},
   "source": [
    "## Model and Training Parameters\n",
    "\n",
    "Configure hyper-parameters for the model and the training routine."
   ]
  },
  {
   "cell_type": "code",
   "execution_count": 2,
   "metadata": {},
   "outputs": [],
   "source": [
    "MODEL_NAME = \"decoder_next_word_gen\"\n",
    "\n",
    "MAX_EPOCHS = 10\n",
    "BATCH_SIZE = 64\n",
    "MIN_SEQ_LEN = 10\n",
    "MAX_SEQ_LEN = 100\n",
    "MIN_WORD_FREQ = 2\n",
    "LEARNING_RATE = 0.0001"
   ]
  },
  {
   "attachments": {},
   "cell_type": "markdown",
   "metadata": {},
   "source": [
    "## Setup Training Data\n",
    "\n",
    "We're tackling a supervised learning task, so we'll need (class) labels as well as features."
   ]
  },
  {
   "cell_type": "code",
   "execution_count": 3,
   "metadata": {},
   "outputs": [],
   "source": [
    "datasets = data.make_sentiment_datasets(\n",
    "    min_seq_len=MIN_SEQ_LEN, max_seq_len=MAX_SEQ_LEN, min_tok_freq=MIN_WORD_FREQ\n",
    ")\n",
    "\n",
    "train_dl = DataLoader(\n",
    "    datasets.train_data,\n",
    "    batch_size=BATCH_SIZE,\n",
    "    drop_last=True,\n",
    "    collate_fn=data.pad_seq2seq_data,\n",
    ")\n",
    "\n",
    "val_dl = DataLoader(\n",
    "    datasets.val_data,\n",
    "    batch_size=BATCH_SIZE,\n",
    "    drop_last=True,\n",
    "    collate_fn=data.pad_seq2seq_data,\n",
    ")\n",
    "\n",
    "test_dl = DataLoader(\n",
    "    datasets.test_data,\n",
    "    batch_size=BATCH_SIZE,\n",
    "    drop_last=True,\n",
    "    collate_fn=data.pad_seq2seq_data,\n",
    ")"
   ]
  },
  {
   "cell_type": "markdown",
   "metadata": {},
   "source": [
    "Let's take a quick look at one instance of this data."
   ]
  },
  {
   "cell_type": "code",
   "execution_count": 4,
   "metadata": {},
   "outputs": [
    {
     "name": "stdout",
     "output_type": "stream",
     "text": [
      "x=[11, 232, 9193, 7, 64]...\n",
      "y=[0.0]\n"
     ]
    }
   ],
   "source": [
    "tokenized_review, review_sentiment = next(iter(datasets.train_data))\n",
    "\n",
    "print(f\"x={tokenized_review[:5].tolist()}...\")\n",
    "print(f\"y={review_sentiment.tolist()}\")"
   ]
  },
  {
   "cell_type": "markdown",
   "metadata": {},
   "source": [
    "It's pretty clear to see that our features are tokens and our label"
   ]
  },
  {
   "cell_type": "code",
   "execution_count": 5,
   "metadata": {},
   "outputs": [
    {
     "name": "stdout",
     "output_type": "stream",
     "text": [
      "loading .models/decoder_next_word_gen/trained@2023-10-11T03:57:36;loss=5_0740.pt\n"
     ]
    },
    {
     "data": {
      "text/plain": [
       "NextWordPredictionTransformer(\n",
       "  (_position_encoder): PositionalEncoding(\n",
       "    (_dropout): Dropout(p=0.1, inplace=False)\n",
       "  )\n",
       "  (_embedding): Embedding(69014, 256)\n",
       "  (_decoder): TransformerDecoderLayer(\n",
       "    (self_attn): MultiheadAttention(\n",
       "      (out_proj): NonDynamicallyQuantizableLinear(in_features=256, out_features=256, bias=True)\n",
       "    )\n",
       "    (multihead_attn): MultiheadAttention(\n",
       "      (out_proj): NonDynamicallyQuantizableLinear(in_features=256, out_features=256, bias=True)\n",
       "    )\n",
       "    (linear1): Linear(in_features=256, out_features=512, bias=True)\n",
       "    (dropout): Dropout(p=0.1, inplace=False)\n",
       "    (linear2): Linear(in_features=512, out_features=256, bias=True)\n",
       "    (norm1): LayerNorm((256,), eps=1e-05, elementwise_affine=True)\n",
       "    (norm2): LayerNorm((256,), eps=1e-05, elementwise_affine=True)\n",
       "    (norm3): LayerNorm((256,), eps=1e-05, elementwise_affine=True)\n",
       "    (dropout1): Dropout(p=0.1, inplace=False)\n",
       "    (dropout2): Dropout(p=0.1, inplace=False)\n",
       "    (dropout3): Dropout(p=0.1, inplace=False)\n",
       "  )\n",
       "  (_linear): Linear(in_features=256, out_features=69014, bias=True)\n",
       ")"
      ]
     },
     "execution_count": 5,
     "metadata": {},
     "output_type": "execute_result"
    }
   ],
   "source": [
    "pre_trained_model: tfr.NextWordPredictionTransformer = utils.load_model(MODEL_NAME)\n",
    "pre_trained_model"
   ]
  },
  {
   "cell_type": "markdown",
   "metadata": {},
   "source": [
    "## Adapt Pre-Trained Model to Create Document Embeddings\n",
    "\n",
    "Recall that the pre-trained model was original trained to predict the next token in a sequence, which is ultimately a classification task that necessitated the final layer of the model being a linear layer that output the logits for all possible tokens (~30k). \n",
    "\n",
    "We need to remove this last layer and replace it with a layer that pools the context-aware embeddings and then transforms this aggregation into the logit for a binary classification task.\n",
    "\n",
    "So, we define a new model (using inheritance) that will only initialise and use the layers of the pre-trained model that we want and then add-in the new components that we need."
   ]
  },
  {
   "cell_type": "code",
   "execution_count": 6,
   "metadata": {},
   "outputs": [],
   "source": [
    "class SentimentClassificationTransformer(tfr.NextWordPredictionTransformer):\n",
    "    \"\"\"Adapting a generative model to yield text embeddings.\"\"\"\n",
    "\n",
    "    def __init__(self, pre_trained_model: tfr.NextWordPredictionTransformer):\n",
    "        super().__init__(\n",
    "            pre_trained_model._size_vocab,\n",
    "            pre_trained_model._size_embed,\n",
    "            pre_trained_model._n_heads,\n",
    "        )\n",
    "        del self._linear\n",
    "        self.load_state_dict(pre_trained_model.state_dict(), strict=False)\n",
    "        self._logit = nn.Linear(pre_trained_model._size_embed, 1)\n",
    "\n",
    "    def forward(self, x: torch.Tensor) -> torch.Tensor:\n",
    "        x_causal_mask, x_padding_mask = self._make_mask(x)\n",
    "        out = self._embedding(x) * math.sqrt(torch.tensor(self._size_embed))\n",
    "        out = self._position_encoder(out)\n",
    "        out = self._decoder(\n",
    "            out,\n",
    "            out,\n",
    "            tgt_mask=x_causal_mask,\n",
    "            tgt_key_padding_mask=x_padding_mask,\n",
    "            memory_mask=x_causal_mask,\n",
    "            memory_key_padding_mask=x_padding_mask,\n",
    "        )\n",
    "        out = torch.max(out, dim=1).values\n",
    "        out = F.sigmoid(self._logit(out))\n",
    "        return out"
   ]
  },
  {
   "cell_type": "markdown",
   "metadata": {},
   "source": [
    "Let's create an instance of our sentiment classification model and feed it a tokenised chunk of text to make sure that what we get back is the right shape and type for our new task."
   ]
  },
  {
   "cell_type": "code",
   "execution_count": 7,
   "metadata": {},
   "outputs": [
    {
     "data": {
      "text/plain": [
       "tensor([[0.5530]], grad_fn=<SigmoidBackward0>)"
      ]
     },
     "execution_count": 7,
     "metadata": {},
     "output_type": "execute_result"
    }
   ],
   "source": [
    "sentiment_cls = SentimentClassificationTransformer(pre_trained_model)\n",
    "\n",
    "class_logits = sentiment_cls(tokenized_review.view(1, -1))\n",
    "class_logits"
   ]
  },
  {
   "cell_type": "markdown",
   "metadata": {},
   "source": [
    "That's precisely what we're after!"
   ]
  },
  {
   "cell_type": "markdown",
   "metadata": {},
   "source": [
    "## Fine-Tune the Model\n",
    "\n",
    "Now we need a training loop to fine-tune our newly configured model to the classification task. This follows pretty much the same pattern that all of training loops have followed - we loop over batches of data computing gradients and updating parameters, using the model's performance on a validation dataset at the end of each epoch to decide wether or not to continue training."
   ]
  },
  {
   "cell_type": "code",
   "execution_count": 8,
   "metadata": {},
   "outputs": [],
   "source": [
    "def train(\n",
    "    model: nn.Module,\n",
    "    train_data: DataLoader,\n",
    "    val_data: DataLoader,\n",
    "    n_epochs: int,\n",
    "    learning_rate: float = 0.0005,\n",
    "    random_seed: int = 42,\n",
    ") -> tuple[dict[int, float], dict[int, float]]:\n",
    "    \"\"\"Training loop for sentiment classification.\"\"\"\n",
    "    torch.manual_seed(random_seed)\n",
    "\n",
    "    optimizer = Adam(model.parameters(), lr=learning_rate)\n",
    "    loss_fn = nn.BCELoss()\n",
    "\n",
    "    train_losses: dict[int, float] = {}\n",
    "    val_losses: dict[int, float] = {}\n",
    "\n",
    "    for epoch in range(1, n_epochs + 1):\n",
    "\n",
    "        # loop over batches training model\n",
    "        loss_train = torch.tensor(0.0)\n",
    "        model.train()\n",
    "        for i, (x_batch, y_batch) in enumerate((pbar := tqdm(train_data)), start=1):\n",
    "            optimizer.zero_grad(set_to_none=True)\n",
    "            y_pred = model(x_batch)\n",
    "            loss_batch = loss_fn(y_pred, y_batch)\n",
    "            loss_batch.backward()\n",
    "            optimizer.step()\n",
    "            loss_train += loss_batch\n",
    "            pbar.set_description(f\"epoch {epoch} training loss = {loss_train/i:.4f}\")\n",
    "\n",
    "        # score validation dataset after training ends\n",
    "        loss_val = torch.tensor(0.0)\n",
    "        model.eval()\n",
    "        for x_batch, y_batch in val_data:\n",
    "            y_pred = model(x_batch)\n",
    "            loss_batch = loss_fn(y_pred, y_batch)\n",
    "            loss_val += loss_batch\n",
    "\n",
    "        # compute end of epoch metrics\n",
    "        epoch_train_loss = loss_train.item() / len(train_data)\n",
    "        epoch_val_loss = loss_val.item() / len(val_data)\n",
    "\n",
    "        # if this is currently the best performing model, checkpoint parameters\n",
    "        if epoch == 1 or epoch_val_loss < min(val_losses.values()):\n",
    "            best_checkpoint = utils.ModelCheckpoint(\n",
    "                epoch, epoch_train_loss, epoch_val_loss, model.state_dict().copy()\n",
    "            )\n",
    "\n",
    "        # persist end of epoch metrics\n",
    "        train_losses[epoch] = epoch_train_loss\n",
    "        val_losses[epoch] = epoch_val_loss\n",
    "\n",
    "        # stop training if validation set losses have plateaued\n",
    "        if utils._early_stop(val_losses):\n",
    "            break\n",
    "\n",
    "    # reload best model params and report performance\n",
    "    model.load_state_dict(best_checkpoint.state_dict)\n",
    "    print(\"\\nbest model:\")\n",
    "    print(f\"|-- epoch: {best_checkpoint.epoch}\")\n",
    "    print(f\"|-- validation loss: {best_checkpoint.val_loss:.4f}\")\n",
    "    \n",
    "    return train_losses, val_losses"
   ]
  },
  {
   "cell_type": "markdown",
   "metadata": {},
   "source": [
    "Let's train this thing!"
   ]
  },
  {
   "cell_type": "code",
   "execution_count": 9,
   "metadata": {},
   "outputs": [
    {
     "name": "stderr",
     "output_type": "stream",
     "text": [
      "epoch 1 training loss = 0.4992: 100%|██████████| 666/666 [02:08<00:00,  5.20it/s]\n",
      "epoch 2 training loss = 0.3552: 100%|██████████| 666/666 [01:53<00:00,  5.85it/s]\n",
      "epoch 3 training loss = 0.3031: 100%|██████████| 666/666 [01:52<00:00,  5.91it/s]\n",
      "epoch 4 training loss = 0.2515: 100%|██████████| 666/666 [01:54<00:00,  5.80it/s]\n"
     ]
    },
    {
     "name": "stdout",
     "output_type": "stream",
     "text": [
      "\n",
      "best model:\n",
      "|-- epoch: 2\n",
      "|-- validation loss: 0.3841\n"
     ]
    }
   ],
   "source": [
    "train_losses, val_losses, = train(\n",
    "    sentiment_cls, train_dl, val_dl, MAX_EPOCHS, LEARNING_RATE\n",
    ")"
   ]
  },
  {
   "cell_type": "code",
   "execution_count": 10,
   "metadata": {},
   "outputs": [
    {
     "data": {
      "image/png": "[encoded data removed]",
      "text/plain": [
       "<Figure size 640x480 with 1 Axes>"
      ]
     },
     "metadata": {},
     "output_type": "display_data"
    }
   ],
   "source": [
    "utils.plot_train_losses(train_losses, val_losses)"
   ]
  },
  {
   "cell_type": "markdown",
   "metadata": {},
   "source": [
    "Note how quickly we were able to fine-tune our pre-trained model to adapt it to the new task - this is the power of LLMs in action."
   ]
  },
  {
   "cell_type": "markdown",
   "metadata": {},
   "source": [
    "## Evaluate Model on Test Dataset\n",
    "\n",
    "Before we get too carried away, lets compute the model's performance on the test dataset."
   ]
  },
  {
   "cell_type": "code",
   "execution_count": 11,
   "metadata": {},
   "outputs": [
    {
     "name": "stdout",
     "output_type": "stream",
     "text": [
      "accuracy = 83.8%\n"
     ]
    }
   ],
   "source": [
    "hits = torch.tensor(0.0)\n",
    "for x_batch, y_batch in test_dl:\n",
    "    y_pred = sentiment_cls(x_batch)\n",
    "    hits += torch.sum(y_pred.round() == y_batch)\n",
    "\n",
    "accuracy = hits.item() / (BATCH_SIZE * len(test_dl))\n",
    "print(f\"accuracy = {accuracy:.1%}\")"
   ]
  },
  {
   "cell_type": "markdown",
   "metadata": {},
   "source": [
    "Not bad!"
   ]
  }
 ],
 "metadata": {
  "kernelspec": {
   "display_name": ".venv",
   "language": "python",
   "name": "python3"
  },
  "language_info": {
   "codemirror_mode": {
    "name": "ipython",
    "version": 3
   },
   "file_extension": ".py",
   "mimetype": "text/x-python",
   "name": "python",
   "nbconvert_exporter": "python",
   "pygments_lexer": "ipython3",
   "version": "3.10.2"
  },
  "orig_nbformat": 4
 },
 "nbformat": 4,
 "nbformat_minor": 2
}
