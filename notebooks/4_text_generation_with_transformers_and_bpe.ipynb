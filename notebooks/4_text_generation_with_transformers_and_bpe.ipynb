{
 "cells": [
  {
   "attachments": {},
   "cell_type": "markdown",
   "metadata": {},
   "source": [
    "# Text Generation with Transformers & Byte Pair Encoding\n",
    "\n",
    "This notebook trains a transformer using the `GPTTokenizer` on the input data - i.e., using [Byte Pair Encoding](https://en.wikipedia.org/wiki/Byte_pair_encoding) as opposed to the simple word encoding we implemented in `IMDBTokenizer`."
   ]
  },
  {
   "attachments": {},
   "cell_type": "markdown",
   "metadata": {},
   "source": [
    "## Imports\n",
    "\n",
    "The bulk of the code required to setup, train and generate new text from the model, is contained within `modelling.transformer` (check the source code for the details). We import this module together with others that serve the training data and manage model persistence."
   ]
  },
  {
   "cell_type": "code",
   "execution_count": 1,
   "metadata": {},
   "outputs": [],
   "source": [
    "import warnings\n",
    "\n",
    "from torch import device\n",
    "from torch.utils.data import DataLoader\n",
    "\n",
    "from modelling import data as data\n",
    "from modelling import transformer as tfr\n",
    "from modelling import utils as utils\n",
    "\n",
    "warnings.filterwarnings(\"ignore\")"
   ]
  },
  {
   "attachments": {},
   "cell_type": "markdown",
   "metadata": {},
   "source": [
    "## Model and Training Parameters\n",
    "\n",
    "Configure hyper-parameters for the model and the training routine."
   ]
  },
  {
   "cell_type": "code",
   "execution_count": 2,
   "metadata": {},
   "outputs": [],
   "source": [
    "MODEL_NAME = \"decoder_next_word_gen_with_bpe\"\n",
    "\n",
    "SIZE_EMBED = 256\n",
    "\n",
    "MAX_EPOCHS = 40\n",
    "BATCH_SIZE = 64\n",
    "SEQ_LEN = 60\n",
    "MIN_WORD_FREQ = 2\n",
    "MAX_LEARNING_RATE = 0.001\n",
    "WARMUP_EPOCHS = 2\n",
    "GRADIENT_CLIP = 5\n",
    "\n",
    "DEVICE = device(\"cpu\")"
   ]
  },
  {
   "cell_type": "markdown",
   "metadata": {},
   "source": [
    "Note that we have explicitly chosen to train this model on the CPU as the MPS backend (for Apple silicon) doesn't (yet) have support for all the calculations required by multi-head attention. Consequently, it has to fall back on the CPU for some calculations and this constant back-and-forth results in significantly longer training times."
   ]
  },
  {
   "attachments": {},
   "cell_type": "markdown",
   "metadata": {},
   "source": [
    "## Setup Training Data"
   ]
  },
  {
   "cell_type": "code",
   "execution_count": 3,
   "metadata": {},
   "outputs": [
    {
     "name": "stdout",
     "output_type": "stream",
     "text": [
      "\n",
      "\n",
      "\n"
     ]
    }
   ],
   "source": [
    "datasets = data.make_sequence_datasets(\n",
    "    tokenizer_type=\"GPTTokenizer\", seq_len=SEQ_LEN, min_freq=MIN_WORD_FREQ\n",
    ")\n",
    "\n",
    "train_dl = DataLoader(\n",
    "    datasets.train_data,\n",
    "    batch_size=BATCH_SIZE,\n",
    "    shuffle=True,\n",
    "    drop_last=True,\n",
    "    collate_fn=data.pad_seq2seq_data,\n",
    ")\n",
    "\n",
    "val_dl = DataLoader(\n",
    "    datasets.val_data,\n",
    "    batch_size=BATCH_SIZE,\n",
    "    shuffle=False,\n",
    "    drop_last=True,\n",
    "    collate_fn=data.pad_seq2seq_data,\n",
    ")"
   ]
  },
  {
   "attachments": {},
   "cell_type": "markdown",
   "metadata": {},
   "source": [
    "## Instantiate Model"
   ]
  },
  {
   "cell_type": "code",
   "execution_count": 4,
   "metadata": {},
   "outputs": [
    {
     "data": {
      "text/plain": [
       "NextWordPredictionTransformer(\n",
       "  (_position_encoder): PositionalEncoding(\n",
       "    (_dropout): Dropout(p=0.1, inplace=False)\n",
       "  )\n",
       "  (_embedding): Embedding(30000, 256)\n",
       "  (_decoder): TransformerDecoderLayer(\n",
       "    (self_attn): MultiheadAttention(\n",
       "      (out_proj): NonDynamicallyQuantizableLinear(in_features=256, out_features=256, bias=True)\n",
       "    )\n",
       "    (multihead_attn): MultiheadAttention(\n",
       "      (out_proj): NonDynamicallyQuantizableLinear(in_features=256, out_features=256, bias=True)\n",
       "    )\n",
       "    (linear1): Linear(in_features=256, out_features=512, bias=True)\n",
       "    (dropout): Dropout(p=0.1, inplace=False)\n",
       "    (linear2): Linear(in_features=512, out_features=256, bias=True)\n",
       "    (norm1): LayerNorm((256,), eps=1e-05, elementwise_affine=True)\n",
       "    (norm2): LayerNorm((256,), eps=1e-05, elementwise_affine=True)\n",
       "    (norm3): LayerNorm((256,), eps=1e-05, elementwise_affine=True)\n",
       "    (dropout1): Dropout(p=0.1, inplace=False)\n",
       "    (dropout2): Dropout(p=0.1, inplace=False)\n",
       "    (dropout3): Dropout(p=0.1, inplace=False)\n",
       "  )\n",
       "  (_linear): Linear(in_features=256, out_features=30000, bias=True)\n",
       ")"
      ]
     },
     "execution_count": 4,
     "metadata": {},
     "output_type": "execute_result"
    }
   ],
   "source": [
    "model = tfr.NextWordPredictionTransformer(datasets.tokenizer.vocab_size, SIZE_EMBED)\n",
    "model"
   ]
  },
  {
   "attachments": {},
   "cell_type": "markdown",
   "metadata": {},
   "source": [
    "If we compare this model with the RNN model, then it is easy to see that this one is significantly more complex with many more layers (and thus parameters). We start with the same embedding layer albeit combined with a positional encoding, that is then fed into a transformer decoder layer comprised of two multi-head attention blocks, two linear (dense) feed-forward layers and three sets of layer normalisation and dropout."
   ]
  },
  {
   "attachments": {},
   "cell_type": "markdown",
   "metadata": {},
   "source": [
    "## Train\n",
    "\n",
    "As well as having a far more complex architecture, transformer based models are also trickier to train successfully. In particular, the vast number of parameters can lead to gradients that can grow very large in the early stages of training, thus preventing convergence.\n",
    "\n",
    "We handle this using a learning rate schedule that starts close to zero and slowly ramps-up, before falling again as we reach the end of the desired number of epochs. We also clip the gradients - see the source code for the full details."
   ]
  },
  {
   "cell_type": "code",
   "execution_count": 5,
   "metadata": {},
   "outputs": [
    {
     "name": "stdout",
     "output_type": "stream",
     "text": [
      "number of warmup steps: 1334 / 26680\n",
      "huggingface/tokenizers: The current process just got forked, after parallelism has already been used. Disabling parallelism to avoid deadlocks...\n",
      "To disable this warning, you can either:\n",
      "\t- Avoid using `tokenizers` before the fork if possible\n",
      "\t- Explicitly set the environment variable TOKENIZERS_PARALLELISM=(true | false)\n"
     ]
    },
    {
     "name": "stderr",
     "output_type": "stream",
     "text": [
      "epoch 1 training loss = 7.2140 (LR = 0.00049923): 100%|██████████| 667/667 [08:43<00:00,  1.27it/s]\n",
      "epoch 2 training loss = 5.4278 (LR = 0.00099384): 100%|██████████| 667/667 [08:41<00:00,  1.28it/s]\n",
      "epoch 3 training loss = 5.0837 (LR = 0.00098618): 100%|██████████| 667/667 [08:36<00:00,  1.29it/s]\n",
      "epoch 4 training loss = 4.8871 (LR = 0.00097553): 100%|██████████| 667/667 [08:34<00:00,  1.30it/s]\n",
      "epoch 5 training loss = 4.7743 (LR = 0.00096194): 100%|██████████| 667/667 [08:33<00:00,  1.30it/s]\n",
      "epoch 6 training loss = 4.6913 (LR = 0.00094550): 100%|██████████| 667/667 [08:35<00:00,  1.30it/s]\n",
      "epoch 7 training loss = 4.6295 (LR = 0.00092632): 100%|██████████| 667/667 [08:34<00:00,  1.30it/s]\n",
      "epoch 8 training loss = 4.5751 (LR = 0.00090451): 100%|██████████| 667/667 [08:34<00:00,  1.30it/s]\n",
      "epoch 9 training loss = 4.5342 (LR = 0.00088020): 100%|██████████| 667/667 [08:33<00:00,  1.30it/s]\n",
      "epoch 10 training loss = 4.4942 (LR = 0.00085355): 100%|██████████| 667/667 [08:32<00:00,  1.30it/s]\n",
      "epoch 11 training loss = 4.4605 (LR = 0.00082472): 100%|██████████| 667/667 [08:32<00:00,  1.30it/s]\n",
      "epoch 12 training loss = 4.4272 (LR = 0.00079389): 100%|██████████| 667/667 [08:32<00:00,  1.30it/s]\n",
      "epoch 13 training loss = 4.4011 (LR = 0.00076125): 100%|██████████| 667/667 [08:32<00:00,  1.30it/s]\n",
      "epoch 14 training loss = 4.3729 (LR = 0.00072700): 100%|██████████| 667/667 [08:34<00:00,  1.30it/s]\n",
      "epoch 15 training loss = 4.3485 (LR = 0.00069134): 100%|██████████| 667/667 [08:33<00:00,  1.30it/s]\n",
      "epoch 16 training loss = 4.3209 (LR = 0.00065451): 100%|██████████| 667/667 [08:33<00:00,  1.30it/s]\n",
      "epoch 17 training loss = 4.3030 (LR = 0.00061672): 100%|██████████| 667/667 [08:32<00:00,  1.30it/s]\n",
      "epoch 18 training loss = 4.2755 (LR = 0.00057822): 100%|██████████| 667/667 [08:34<00:00,  1.30it/s]\n",
      "epoch 19 training loss = 4.2528 (LR = 0.00053923): 100%|██████████| 667/667 [08:33<00:00,  1.30it/s]\n",
      "epoch 20 training loss = 4.2297 (LR = 0.00050000): 100%|██████████| 667/667 [08:32<00:00,  1.30it/s]\n",
      "epoch 21 training loss = 4.2087 (LR = 0.00046077): 100%|██████████| 667/667 [08:34<00:00,  1.30it/s]\n",
      "epoch 22 training loss = 4.1933 (LR = 0.00042178): 100%|██████████| 667/667 [08:34<00:00,  1.30it/s]\n",
      "epoch 23 training loss = 4.1703 (LR = 0.00038328): 100%|██████████| 667/667 [08:34<00:00,  1.30it/s]\n",
      "epoch 24 training loss = 4.1541 (LR = 0.00034549): 100%|██████████| 667/667 [08:34<00:00,  1.30it/s]\n",
      "epoch 25 training loss = 4.1345 (LR = 0.00030866): 100%|██████████| 667/667 [08:34<00:00,  1.30it/s]\n",
      "epoch 26 training loss = 4.1216 (LR = 0.00027300): 100%|██████████| 667/667 [08:33<00:00,  1.30it/s]\n",
      "epoch 27 training loss = 4.1065 (LR = 0.00023875): 100%|██████████| 667/667 [08:33<00:00,  1.30it/s]\n",
      "epoch 28 training loss = 4.0923 (LR = 0.00020611): 100%|██████████| 667/667 [08:35<00:00,  1.29it/s]\n",
      "epoch 29 training loss = 4.0784 (LR = 0.00017528): 100%|██████████| 667/667 [08:34<00:00,  1.30it/s]\n",
      "epoch 30 training loss = 4.0672 (LR = 0.00014645): 100%|██████████| 667/667 [08:34<00:00,  1.30it/s]\n",
      "epoch 31 training loss = 4.0568 (LR = 0.00011980): 100%|██████████| 667/667 [08:34<00:00,  1.30it/s]\n"
     ]
    },
    {
     "name": "stdout",
     "output_type": "stream",
     "text": [
      "\n",
      "best model:\n",
      "|-- epoch: 29\n",
      "|-- loss: 4.5140\n"
     ]
    }
   ],
   "source": [
    "train_losses, val_losses, cp = tfr.train(\n",
    "    model,\n",
    "    train_dl,\n",
    "    val_dl,\n",
    "    MAX_EPOCHS,\n",
    "    MAX_LEARNING_RATE,\n",
    "    WARMUP_EPOCHS,\n",
    "    GRADIENT_CLIP,\n",
    "    device=DEVICE,\n",
    ")\n",
    "utils.save_model(model, name=MODEL_NAME, loss=min(val_losses.values()))"
   ]
  },
  {
   "cell_type": "code",
   "execution_count": 6,
   "metadata": {},
   "outputs": [
    {
     "data": {
      "image/png": "[encoded data removed]",
      "text/plain": [
       "<Figure size 640x480 with 1 Axes>"
      ]
     },
     "metadata": {},
     "output_type": "display_data"
    }
   ],
   "source": [
    "utils.plot_train_losses(train_losses, val_losses)"
   ]
  },
  {
   "attachments": {},
   "cell_type": "markdown",
   "metadata": {},
   "source": [
    "## Generate Text with Model"
   ]
  },
  {
   "attachments": {},
   "cell_type": "markdown",
   "metadata": {},
   "source": [
    "Start by loading a model and instantiating a tokenizer that can also map from tokens back to text. The `load_model` function will load the best performing model that has been persisted on the local filesystem."
   ]
  },
  {
   "cell_type": "code",
   "execution_count": 7,
   "metadata": {},
   "outputs": [
    {
     "name": "stdout",
     "output_type": "stream",
     "text": [
      "loading .models/decoder_next_word_gen_with_bpe/trained@2023-07-17T21:55:44;loss=4_4922.pt\n"
     ]
    }
   ],
   "source": [
    "best_model: tfr.NextWordPredictionTransformer = utils.load_model(MODEL_NAME)"
   ]
  },
  {
   "cell_type": "markdown",
   "metadata": {},
   "source": [
    "Then set a prompt."
   ]
  },
  {
   "cell_type": "code",
   "execution_count": 8,
   "metadata": {},
   "outputs": [],
   "source": [
    "prompt = \"Now I love horror, but I found this\""
   ]
  },
  {
   "attachments": {},
   "cell_type": "markdown",
   "metadata": {},
   "source": [
    "### Greedy Decoding Strategy\n",
    "\n",
    "Pass a prompt to the model and use a greedy decoding strategy to generate new text.Now pass a prompt to the model and get it to generate the text that comes after."
   ]
  },
  {
   "cell_type": "code",
   "execution_count": 9,
   "metadata": {},
   "outputs": [
    {
     "name": "stdout",
     "output_type": "stream",
     "text": [
      "==> NOW I LOVE HORROR, BUT I FOUND THIS movie to be a good movie. I was very\n",
      "disappointed. I was very disappointed. I was very disappointed. I was disappointed that\n",
      "the movie was very good. I was very disappointed. I was very disappointed. I was\n",
      "disappointed that the movie was made. I was very much better than the acting and...\n"
     ]
    }
   ],
   "source": [
    "text = tfr.generate(best_model, prompt, datasets.tokenizer, \"greedy\", temperature=1.0)\n",
    "print(text)"
   ]
  },
  {
   "cell_type": "markdown",
   "metadata": {},
   "source": [
    "### Top-k Decoding Strategy\n",
    "\n",
    "Pass a prompt to the model and use a top-k decoding strategy to generate new text (with k=3)."
   ]
  },
  {
   "cell_type": "code",
   "execution_count": 10,
   "metadata": {},
   "outputs": [
    {
     "name": "stdout",
     "output_type": "stream",
     "text": [
      "==> NOW I LOVE HORROR, BUT I FOUND THIS movie to be very entertaining. I was very\n",
      "disappointed. It was a great film, but it is a good movie and the acting is superb, and\n",
      "the story was very good. I was very disappointed in this movie. The plot is very simple\n",
      "and very good acting. It's direction and the plot...\n"
     ]
    }
   ],
   "source": [
    "text = tfr.generate(\n",
    "    best_model, prompt, datasets.tokenizer, \"topk\", temperature=1.0, k=3\n",
    ")\n",
    "print(text)"
   ]
  },
  {
   "cell_type": "markdown",
   "metadata": {},
   "source": [
    "### Sampling Decoding Strategy\n",
    "\n",
    "Pass a prompt to the model and use a sampling decoding strategy to generate new text."
   ]
  },
  {
   "cell_type": "code",
   "execution_count": 11,
   "metadata": {},
   "outputs": [
    {
     "name": "stdout",
     "output_type": "stream",
     "text": [
      "==> NOW I LOVE HORROR, BUT I FOUND THIS one to be soo bad. Acting can have excellent\n",
      "dialog, saving a time eternal search for sci fiore cost. The only problem was in the end,\n",
      "it was too bad. Very bad movie. I was thoroughly disappointed in the first part and were\n",
      "mildly predictable and unnecessary activities in my rating on...\n"
     ]
    }
   ],
   "source": [
    "text = tfr.generate(best_model, prompt, datasets.tokenizer, \"sample\", temperature=1.0)\n",
    "print(text)"
   ]
  },
  {
   "attachments": {},
   "cell_type": "markdown",
   "metadata": {},
   "source": [
    "### Benchmark\n",
    "\n",
    "Compare all output with that from an untrained model.And compare this output with that from an untrained model."
   ]
  },
  {
   "cell_type": "code",
   "execution_count": 12,
   "metadata": {},
   "outputs": [
    {
     "name": "stdout",
     "output_type": "stream",
     "text": [
      "==> NOW I LOVE HORROR, BUT I FOUND THIS atomic atomic atomicish consumer atomic 99 99 99\n",
      "Tak Tak copies copies copies copies atomic edits copies consumer copies copies copies\n",
      "edits edits copies copies copies copies Tak Tak Tak Tak Tak Tak Tak Tak Tak Tak\n",
      "Tak¨eitheriana low1990199019901990 firefighter firefighterbably autopsybablybably copies\n",
      "copies copies copies copies copies copies...\n"
     ]
    }
   ],
   "source": [
    "untrained_model = tfr.NextWordPredictionTransformer(\n",
    "    datasets.tokenizer.vocab_size, SIZE_EMBED\n",
    ")\n",
    "text = tfr.generate(\n",
    "    untrained_model, prompt, datasets.tokenizer, temperature=1.0, device=DEVICE\n",
    ")\n",
    "print(text)"
   ]
  }
 ],
 "metadata": {
  "kernelspec": {
   "display_name": ".venv",
   "language": "python",
   "name": "python3"
  },
  "language_info": {
   "codemirror_mode": {
    "name": "ipython",
    "version": 3
   },
   "file_extension": ".py",
   "mimetype": "text/x-python",
   "name": "python",
   "nbconvert_exporter": "python",
   "pygments_lexer": "ipython3",
   "version": "3.10.2"
  },
  "orig_nbformat": 4
 },
 "nbformat": 4,
 "nbformat_minor": 2
}
