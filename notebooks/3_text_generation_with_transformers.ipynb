{
 "cells": [
  {
   "attachments": {},
   "cell_type": "markdown",
   "metadata": {},
   "source": [
    "# Text Generation with Transformers\n",
    "\n",
    "In this notebook we use the components developed in `modelling.transformer` to train a transformer decoder for our text generation task. We will compare the performance of this model with that established by our RNN baseline."
   ]
  },
  {
   "attachments": {},
   "cell_type": "markdown",
   "metadata": {},
   "source": [
    "## Imports\n",
    "\n",
    "The bulk of the code required to setup, train and generate new text from the model, is contained within `modelling.transformer` (check the source code for the details). We import this module together with others that serve the training data and manage model persistence."
   ]
  },
  {
   "cell_type": "code",
   "execution_count": 26,
   "metadata": {},
   "outputs": [],
   "source": [
    "import warnings\n",
    "\n",
    "from torch import device\n",
    "from torch.utils.data import DataLoader\n",
    "\n",
    "from modelling import data as data\n",
    "from modelling import transformer as tfr\n",
    "from modelling import utils as utils\n",
    "\n",
    "warnings.filterwarnings(\"ignore\")"
   ]
  },
  {
   "attachments": {},
   "cell_type": "markdown",
   "metadata": {},
   "source": [
    "## Model and Training Parameters\n",
    "\n",
    "Configure hyper-parameters for the model and the training routine."
   ]
  },
  {
   "cell_type": "code",
   "execution_count": 27,
   "metadata": {},
   "outputs": [],
   "source": [
    "MODEL_NAME = \"decoder_next_word_gen\"\n",
    "\n",
    "SIZE_EMBED = 256\n",
    "\n",
    "MAX_EPOCHS = 30\n",
    "BATCH_SIZE = 64\n",
    "SEQ_LEN = 100\n",
    "MIN_WORD_FREQ = 1\n",
    "MAX_LEARNING_RATE = 0.001\n",
    "WARMUP_EPOCHS = 2\n",
    "GRADIENT_CLIP = 5\n",
    "\n",
    "DEVICE = device(\"cpu\")"
   ]
  },
  {
   "cell_type": "markdown",
   "metadata": {},
   "source": [
    "Note that we have explicitly chosen to train this model on the CPU as the MPS backend (for Apple silicon) doesn't (yet) have support for all the calculations required by multi-head attention. Consequently, it has to fall back on the CPU for some calculations and this constant back-and-forth results in significantly longer training times."
   ]
  },
  {
   "attachments": {},
   "cell_type": "markdown",
   "metadata": {},
   "source": [
    "## Setup Training Data"
   ]
  },
  {
   "cell_type": "code",
   "execution_count": 28,
   "metadata": {},
   "outputs": [],
   "source": [
    "datasets = data.make_sequence_datasets(seq_len=SEQ_LEN, min_freq=MIN_WORD_FREQ)\n",
    "\n",
    "train_dl = DataLoader(\n",
    "    datasets.train_data,\n",
    "    batch_size=BATCH_SIZE,\n",
    "    shuffle=True,\n",
    "    drop_last=True,\n",
    "    collate_fn=data.pad_seq2seq_data,\n",
    ")\n",
    "\n",
    "val_dl = DataLoader(\n",
    "    datasets.val_data,\n",
    "    batch_size=BATCH_SIZE,\n",
    "    shuffle=False,\n",
    "    drop_last=True,\n",
    "    collate_fn=data.pad_seq2seq_data,\n",
    ")"
   ]
  },
  {
   "attachments": {},
   "cell_type": "markdown",
   "metadata": {},
   "source": [
    "## Instantiate Model"
   ]
  },
  {
   "cell_type": "code",
   "execution_count": 29,
   "metadata": {},
   "outputs": [
    {
     "data": {
      "text/plain": [
       "NextWordPredictionTransformer(\n",
       "  (_position_encoder): PositionalEncoding(\n",
       "    (_dropout): Dropout(p=0.1, inplace=False)\n",
       "  )\n",
       "  (_embedding): Embedding(133046, 256)\n",
       "  (_decoder): TransformerDecoderLayer(\n",
       "    (self_attn): MultiheadAttention(\n",
       "      (out_proj): NonDynamicallyQuantizableLinear(in_features=256, out_features=256, bias=True)\n",
       "    )\n",
       "    (multihead_attn): MultiheadAttention(\n",
       "      (out_proj): NonDynamicallyQuantizableLinear(in_features=256, out_features=256, bias=True)\n",
       "    )\n",
       "    (linear1): Linear(in_features=256, out_features=512, bias=True)\n",
       "    (dropout): Dropout(p=0.1, inplace=False)\n",
       "    (linear2): Linear(in_features=512, out_features=256, bias=True)\n",
       "    (norm1): LayerNorm((256,), eps=1e-05, elementwise_affine=True)\n",
       "    (norm2): LayerNorm((256,), eps=1e-05, elementwise_affine=True)\n",
       "    (norm3): LayerNorm((256,), eps=1e-05, elementwise_affine=True)\n",
       "    (dropout1): Dropout(p=0.1, inplace=False)\n",
       "    (dropout2): Dropout(p=0.1, inplace=False)\n",
       "    (dropout3): Dropout(p=0.1, inplace=False)\n",
       "  )\n",
       "  (_linear): Linear(in_features=256, out_features=133046, bias=True)\n",
       ")"
      ]
     },
     "execution_count": 29,
     "metadata": {},
     "output_type": "execute_result"
    }
   ],
   "source": [
    "model = tfr.NextWordPredictionTransformer(datasets.tokenizer.vocab_size, SIZE_EMBED)\n",
    "model"
   ]
  },
  {
   "cell_type": "markdown",
   "metadata": {},
   "source": [
    "Let's count how many parameters this model has."
   ]
  },
  {
   "cell_type": "code",
   "execution_count": 30,
   "metadata": {},
   "outputs": [
    {
     "name": "stdout",
     "output_type": "stream",
     "text": [
      "406,306\n"
     ]
    }
   ],
   "source": [
    "print(f\"{utils.count_params(model):,}\")"
   ]
  },
  {
   "attachments": {},
   "cell_type": "markdown",
   "metadata": {},
   "source": [
    "If we compare this model with the RNN model, then it is easy to see that this one is significantly more complex with many more layers (and thus parameters). We start with the same embedding layer albeit combined with a positional encoding, that is then fed into a transformer decoder layer comprised of two multi-head attention blocks, two linear (dense) feed-forward layers and three sets of layer normalisation and dropout."
   ]
  },
  {
   "attachments": {},
   "cell_type": "markdown",
   "metadata": {},
   "source": [
    "## Train\n",
    "\n",
    "As well as having a far more complex architecture, transformer based models are also trickier to train successfully. In particular, the vast number of parameters can lead to gradients that can grow very large in the early stages of training, thus preventing convergence.\n",
    "\n",
    "We handle this using a learning rate schedule that starts close to zero and slowly ramps-up, before falling again as we reach the end of the desired number of epochs. We also clip the gradients - see the source code for the full details."
   ]
  },
  {
   "cell_type": "code",
   "execution_count": 31,
   "metadata": {},
   "outputs": [
    {
     "name": "stdout",
     "output_type": "stream",
     "text": [
      "number of warmup steps: 1332 / 19980\n"
     ]
    },
    {
     "name": "stderr",
     "output_type": "stream",
     "text": [
      "epoch 1 training loss = 7.6571 (LR = 0.00049863): 100%|██████████| 666/666 [1:12:00<00:00,  6.49s/it] \n",
      "epoch 2 training loss = 5.6466 (LR = 0.00098907): 100%|██████████| 666/666 [1:11:43<00:00,  6.46s/it]\n",
      "epoch 3 training loss = 5.2417 (LR = 0.00097553): 100%|██████████| 666/666 [1:12:08<00:00,  6.50s/it]\n",
      "epoch 4 training loss = 5.0005 (LR = 0.00095677): 100%|██████████| 666/666 [1:11:39<00:00,  6.46s/it]\n",
      "epoch 5 training loss = 4.8444 (LR = 0.00093301): 100%|██████████| 666/666 [1:11:46<00:00,  6.47s/it]\n",
      "epoch 6 training loss = 4.7180 (LR = 0.00090451): 100%|██████████| 666/666 [1:11:58<00:00,  6.48s/it]\n",
      "epoch 7 training loss = 4.6115 (LR = 0.00087157): 100%|██████████| 666/666 [1:11:47<00:00,  6.47s/it]\n",
      "epoch 8 training loss = 4.5217 (LR = 0.00083457): 100%|██████████| 666/666 [1:13:23<00:00,  6.61s/it]\n"
     ]
    },
    {
     "name": "stdout",
     "output_type": "stream",
     "text": [
      "\n",
      "best model:\n",
      "|-- epoch: 7\n",
      "|-- validation loss: 5.0291\n"
     ]
    }
   ],
   "source": [
    "train_losses, val_losses, best_checkpoint = tfr.train(\n",
    "    model,\n",
    "    train_dl,\n",
    "    val_dl,\n",
    "    MAX_EPOCHS,\n",
    "    MAX_LEARNING_RATE,\n",
    "    WARMUP_EPOCHS,\n",
    "    GRADIENT_CLIP,\n",
    "    device=DEVICE,\n",
    ")\n",
    "utils.save_model(model, name=MODEL_NAME, loss=best_checkpoint.val_loss)"
   ]
  },
  {
   "cell_type": "code",
   "execution_count": 32,
   "metadata": {},
   "outputs": [
    {
     "data": {
      "image/png": "[encoded data removed]",
      "text/plain": [
       "<Figure size 640x480 with 1 Axes>"
      ]
     },
     "metadata": {},
     "output_type": "display_data"
    }
   ],
   "source": [
    "utils.plot_train_losses(train_losses, val_losses)"
   ]
  },
  {
   "attachments": {},
   "cell_type": "markdown",
   "metadata": {},
   "source": [
    "## Generate Text with Model"
   ]
  },
  {
   "attachments": {},
   "cell_type": "markdown",
   "metadata": {},
   "source": [
    "Start by loading a model and instantiating a tokenizer that can also map from tokens back to text. The `load_model` function will load the best performing model that has been persisted on the local filesystem."
   ]
  },
  {
   "cell_type": "code",
   "execution_count": 92,
   "metadata": {},
   "outputs": [
    {
     "name": "stdout",
     "output_type": "stream",
     "text": [
      "loading .models/decoder_next_word_gen/trained@2023-07-26T17:02:56;loss=5_0291.pt\n"
     ]
    }
   ],
   "source": [
    "best_model: tfr.NextWordPredictionTransformer = utils.load_model(MODEL_NAME)"
   ]
  },
  {
   "cell_type": "markdown",
   "metadata": {},
   "source": [
    "Then set a prompt."
   ]
  },
  {
   "cell_type": "code",
   "execution_count": 93,
   "metadata": {},
   "outputs": [],
   "source": [
    "prompt = \"This is a classic horror and\""
   ]
  },
  {
   "attachments": {},
   "cell_type": "markdown",
   "metadata": {},
   "source": [
    "### Greedy Decoding Strategy\n",
    "\n",
    "Pass a prompt to the model and use a greedy decoding strategy to generate new text.Now pass a prompt to the model and get it to generate the text that comes after."
   ]
  },
  {
   "cell_type": "code",
   "execution_count": 94,
   "metadata": {},
   "outputs": [
    {
     "name": "stdout",
     "output_type": "stream",
     "text": [
      "==> THIS IS A CLASSIC HORROR AND a very good movie. The acting is good and the plot is\n",
      "very good. The acting is good and the plot is very good. The plot is very good and the\n",
      "acting is good. The story is very good and the acting is good. The story is very good and\n",
      "the story is very good. The acting is good and the story is very good. The acting is good\n",
      "and the story is very good. The story is very good. The story is very good and the story.\n",
      "The story...\n"
     ]
    }
   ],
   "source": [
    "text = tfr.generate(\n",
    "    best_model, prompt, datasets.tokenizer, \"greedy\", SEQ_LEN, temperature=1.0,\n",
    ")\n",
    "print(text)"
   ]
  },
  {
   "cell_type": "markdown",
   "metadata": {},
   "source": [
    "### Top-k Decoding Strategy\n",
    "\n",
    "Pass a prompt to the model and use a top-k decoding strategy to generate new text (with k=5)."
   ]
  },
  {
   "cell_type": "code",
   "execution_count": 95,
   "metadata": {},
   "outputs": [
    {
     "name": "stdout",
     "output_type": "stream",
     "text": [
      "==> THIS IS A CLASSIC HORROR AND the story of a man who wants a lot of money. I think its\n",
      "not a movie that has a good message about it. The film has a great deal of humour and\n",
      "some nice touches. A few good moments and the story is not very good but it doesnt seem\n",
      "to be much better than it is. I am a big fan of the movie and I have a great time to\n",
      "watch this film and will definitely be a good horror movie. It is a great film for the\n",
      "movie that you will...\n"
     ]
    }
   ],
   "source": [
    "text = tfr.generate(\n",
    "    best_model, prompt, datasets.tokenizer, \"topk\", SEQ_LEN, temperature=1.0, k=5\n",
    ")\n",
    "print(text)"
   ]
  },
  {
   "cell_type": "markdown",
   "metadata": {},
   "source": [
    "### Sampling Decoding Strategy\n",
    "\n",
    "Pass a prompt to the model and use a sampling decoding strategy to generate new text."
   ]
  },
  {
   "cell_type": "code",
   "execution_count": 96,
   "metadata": {},
   "outputs": [
    {
     "name": "stdout",
     "output_type": "stream",
     "text": [
      "==> THIS IS A CLASSIC HORROR AND to its predecessors really believable. The acting\n",
      "definitely below average quality trashy dates and while I did find the acting\n",
      "particularly robert walker texas ranger v and twice as if hes suddenly listed on a limb\n",
      "and even shooting a film. It is the newcomer of all evils children is singularly for an\n",
      "cowardly nut there was a scene where the boy meowed so supernova and insanity flashback\n",
      "scenes. I would hope this film will as for the other two bickering bastards. Cause it\n",
      "could possible such a nightmare with dirty dancing greek dudes in 1985...\n"
     ]
    }
   ],
   "source": [
    "text = tfr.generate(\n",
    "    best_model, prompt, datasets.tokenizer, \"sample\", SEQ_LEN, temperature=1.0\n",
    ")\n",
    "print(text)"
   ]
  },
  {
   "attachments": {},
   "cell_type": "markdown",
   "metadata": {},
   "source": [
    "### Benchmark\n",
    "\n",
    "Compare all output with that from an untrained model.And compare this output with that from an untrained model."
   ]
  },
  {
   "cell_type": "code",
   "execution_count": 97,
   "metadata": {},
   "outputs": [
    {
     "name": "stdout",
     "output_type": "stream",
     "text": [
      "==> THIS IS A CLASSIC HORROR AND Is1ok chasedkilled chasedkilled coppin coppin coppin\n",
      "coppin coppin panic dolce dolce capitulates capitulates bisset bisset lollipopscash\n",
      "kopins inevitabally reynold reynold reynold lollipopscash lollipopscash lollipopscash\n",
      "lollipopscash seemsconvinced seemsconvinced seemsconvinced bbq bbq bbq bbq riverbed hrs\n",
      "bbq bbq badgere skews resile resile ticker caveats caveats caveats caveats caveats\n",
      "everythingsound everythingsound everythingsound everythingsound everythingsound mssmith\n",
      "bisset bisset entrails kooper filmsscott aerun mssmith mssmith lofgren entrails entrails\n",
      "entrails entrails entrails entrails vernen toturro bllshit philadelphiapa philadelphiapa\n",
      "badgere badgere badgere fifties fifties fifties vernen vernen vernen intensely\n",
      "precondition hashopium peclet vernen vernen vernen vernen badgere badgere misdemeanour\n",
      "towered trimmer trimmer trimmer trimmer trimmer fifties fifties...\n"
     ]
    }
   ],
   "source": [
    "untrained_model = tfr.NextWordPredictionTransformer(\n",
    "    datasets.tokenizer.vocab_size, SIZE_EMBED\n",
    ")\n",
    "text = tfr.generate(\n",
    "    untrained_model, prompt, datasets.tokenizer, \"greedy\", SEQ_LEN, temperature=1.0\n",
    ")\n",
    "print(text)"
   ]
  }
 ],
 "metadata": {
  "kernelspec": {
   "display_name": ".venv",
   "language": "python",
   "name": "python3"
  },
  "language_info": {
   "codemirror_mode": {
    "name": "ipython",
    "version": 3
   },
   "file_extension": ".py",
   "mimetype": "text/x-python",
   "name": "python",
   "nbconvert_exporter": "python",
   "pygments_lexer": "ipython3",
   "version": "3.10.2"
  },
  "orig_nbformat": 4
 },
 "nbformat": 4,
 "nbformat_minor": 2
}
