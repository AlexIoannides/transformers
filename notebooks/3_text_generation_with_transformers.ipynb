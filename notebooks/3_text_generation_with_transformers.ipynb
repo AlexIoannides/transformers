{
 "cells": [
  {
   "attachments": {},
   "cell_type": "markdown",
   "metadata": {},
   "source": [
    "# Text Generation with Transformers\n",
    "\n",
    "In this notebook we use the components developed in `modelling.transformer` to train a transformer decoder for our text generation task. We will compare the performance of this model with that established by our RNN baseline."
   ]
  },
  {
   "attachments": {},
   "cell_type": "markdown",
   "metadata": {},
   "source": [
    "## Imports\n",
    "\n",
    "The bulk of the code required to setup, train and generate new text from the model, is contained within `modelling.transformer` (check the source code for the details). We import this module together with others that serve the training data and manage model persistence."
   ]
  },
  {
   "cell_type": "code",
   "execution_count": 1,
   "metadata": {},
   "outputs": [],
   "source": [
    "import warnings\n",
    "\n",
    "from torch import device\n",
    "from torch.utils.data import DataLoader\n",
    "\n",
    "from modelling import data as data\n",
    "from modelling import transformer as tfr\n",
    "from modelling import utils as utils\n",
    "\n",
    "warnings.filterwarnings(\"ignore\")"
   ]
  },
  {
   "attachments": {},
   "cell_type": "markdown",
   "metadata": {},
   "source": [
    "## Model and Training Parameters\n",
    "\n",
    "Configure hyper-parameters for the model and the training routine."
   ]
  },
  {
   "cell_type": "code",
   "execution_count": 2,
   "metadata": {},
   "outputs": [],
   "source": [
    "MODEL_NAME = \"decoder_next_word_gen\"\n",
    "\n",
    "SIZE_EMBED = 256\n",
    "\n",
    "MAX_EPOCHS = 30\n",
    "BATCH_SIZE = 32\n",
    "MAX_SEQ_LEN = 100\n",
    "MIN_SEQ_LEN = 10\n",
    "MIN_WORD_FREQ = 1\n",
    "MAX_LEARNING_RATE = 0.001\n",
    "WARMUP_EPOCHS = 2\n",
    "GRADIENT_CLIP = 5\n",
    "\n",
    "DEVICE = device(\"cuda\")"
   ]
  },
  {
   "cell_type": "markdown",
   "metadata": {},
   "source": [
    "Note that we have explicitly chosen to train this model on the CPU as the MPS backend (for Apple silicon) doesn't (yet) have support for all the calculations required by multi-head attention. Consequently, it has to fall back on the CPU for some calculations and this constant back-and-forth results in significantly longer training times."
   ]
  },
  {
   "attachments": {},
   "cell_type": "markdown",
   "metadata": {},
   "source": [
    "## Setup Training Data"
   ]
  },
  {
   "cell_type": "code",
   "execution_count": 3,
   "metadata": {},
   "outputs": [],
   "source": [
    "datasets = data.make_sequence_datasets(\n",
    "    max_seq_len=MAX_SEQ_LEN, min_seq_len=MIN_SEQ_LEN, min_tok_freq=MIN_WORD_FREQ\n",
    ")\n",
    "\n",
    "train_dl = DataLoader(\n",
    "    datasets.train_data,\n",
    "    batch_size=BATCH_SIZE,\n",
    "    drop_last=True,\n",
    "    collate_fn=data.pad_seq2seq_data,\n",
    ")\n",
    "\n",
    "val_dl = DataLoader(\n",
    "    datasets.val_data,\n",
    "    batch_size=BATCH_SIZE,\n",
    "    drop_last=True,\n",
    "    collate_fn=data.pad_seq2seq_data,\n",
    ")"
   ]
  },
  {
   "attachments": {},
   "cell_type": "markdown",
   "metadata": {},
   "source": [
    "## Instantiate Model"
   ]
  },
  {
   "cell_type": "code",
   "execution_count": 4,
   "metadata": {},
   "outputs": [
    {
     "data": {
      "text/plain": [
       "NextWordPredictionTransformer(\n",
       "  (_position_encoder): PositionalEncoding(\n",
       "    (_dropout): Dropout(p=0.1, inplace=False)\n",
       "  )\n",
       "  (_embedding): Embedding(133046, 256)\n",
       "  (_decoder): TransformerDecoderLayer(\n",
       "    (self_attn): MultiheadAttention(\n",
       "      (out_proj): NonDynamicallyQuantizableLinear(in_features=256, out_features=256, bias=True)\n",
       "    )\n",
       "    (multihead_attn): MultiheadAttention(\n",
       "      (out_proj): NonDynamicallyQuantizableLinear(in_features=256, out_features=256, bias=True)\n",
       "    )\n",
       "    (linear1): Linear(in_features=256, out_features=512, bias=True)\n",
       "    (dropout): Dropout(p=0.1, inplace=False)\n",
       "    (linear2): Linear(in_features=512, out_features=256, bias=True)\n",
       "    (norm1): LayerNorm((256,), eps=1e-05, elementwise_affine=True)\n",
       "    (norm2): LayerNorm((256,), eps=1e-05, elementwise_affine=True)\n",
       "    (norm3): LayerNorm((256,), eps=1e-05, elementwise_affine=True)\n",
       "    (dropout1): Dropout(p=0.1, inplace=False)\n",
       "    (dropout2): Dropout(p=0.1, inplace=False)\n",
       "    (dropout3): Dropout(p=0.1, inplace=False)\n",
       "  )\n",
       "  (_linear): Linear(in_features=256, out_features=133046, bias=True)\n",
       ")"
      ]
     },
     "execution_count": 4,
     "metadata": {},
     "output_type": "execute_result"
    }
   ],
   "source": [
    "model = tfr.NextWordPredictionTransformer(datasets.tokenizer.vocab_size, SIZE_EMBED)\n",
    "model"
   ]
  },
  {
   "cell_type": "markdown",
   "metadata": {},
   "source": [
    "Let's count how many parameters this model has."
   ]
  },
  {
   "cell_type": "code",
   "execution_count": 5,
   "metadata": {},
   "outputs": [
    {
     "name": "stdout",
     "output_type": "stream",
     "text": [
      "406,306\n"
     ]
    }
   ],
   "source": [
    "print(f\"{utils.count_params(model):,}\")"
   ]
  },
  {
   "attachments": {},
   "cell_type": "markdown",
   "metadata": {},
   "source": [
    "If we compare this model with the RNN model, then it is easy to see that this one is significantly more complex with many more layers (and thus parameters). We start with the same embedding layer albeit combined with a positional encoding, that is then fed into a transformer decoder layer comprised of two multi-head attention blocks, two linear (dense) feed-forward layers and three sets of layer normalisation and dropout."
   ]
  },
  {
   "attachments": {},
   "cell_type": "markdown",
   "metadata": {},
   "source": [
    "## Train\n",
    "\n",
    "As well as having a far more complex architecture, transformer based models are also trickier to train successfully. In particular, the vast number of parameters can lead to gradients that can grow very large in the early stages of training, thus preventing convergence.\n",
    "\n",
    "We handle this using a learning rate schedule that starts close to zero and slowly ramps-up, before falling again as we reach the end of the desired number of epochs. We also clip the gradients - see the source code for the full details."
   ]
  },
  {
   "cell_type": "code",
   "execution_count": 6,
   "metadata": {},
   "outputs": [
    {
     "name": "stdout",
     "output_type": "stream",
     "text": [
      "number of warmup steps: 33692 / 505380\n"
     ]
    },
    {
     "name": "stderr",
     "output_type": "stream",
     "text": [
      "epoch 1 training loss = 6.0603 (LR = 0.00049863): 100%|██████████| 16846/16846 [1:40:23<00:00,  2.80it/s]\n",
      "epoch 2 training loss = 5.2419 (LR = 0.00098907): 100%|██████████| 16846/16846 [1:40:26<00:00,  2.80it/s]\n",
      "epoch 3 training loss = 5.0985 (LR = 0.00097553): 100%|██████████| 16846/16846 [1:40:29<00:00,  2.79it/s]\n",
      "epoch 4 training loss = 4.9940 (LR = 0.00095677): 100%|██████████| 16846/16846 [1:40:31<00:00,  2.79it/s]\n",
      "epoch 5 training loss = 4.9635 (LR = 0.00093301): 100%|██████████| 16846/16846 [1:40:30<00:00,  2.79it/s]\n"
     ]
    },
    {
     "name": "stdout",
     "output_type": "stream",
     "text": [
      "\n",
      "best model:\n",
      "|-- epoch: 3\n",
      "|-- validation loss: 5.1783\n"
     ]
    }
   ],
   "source": [
    "train_losses, val_losses, best_checkpoint = tfr.train(\n",
    "    model,\n",
    "    train_dl,\n",
    "    val_dl,\n",
    "    MAX_EPOCHS,\n",
    "    MAX_LEARNING_RATE,\n",
    "    WARMUP_EPOCHS,\n",
    "    GRADIENT_CLIP,\n",
    "    device=DEVICE,\n",
    ")\n",
    "utils.save_model(model, name=MODEL_NAME, loss=best_checkpoint.val_loss)"
   ]
  },
  {
   "cell_type": "code",
   "execution_count": 7,
   "metadata": {},
   "outputs": [
    {
     "data": {
      "image/png": "[encoded data removed]",
      "text/plain": [
       "<Figure size 640x480 with 1 Axes>"
      ]
     },
     "metadata": {},
     "output_type": "display_data"
    }
   ],
   "source": [
    "utils.plot_train_losses(train_losses, val_losses)"
   ]
  },
  {
   "attachments": {},
   "cell_type": "markdown",
   "metadata": {},
   "source": [
    "## Generate Text with Model"
   ]
  },
  {
   "attachments": {},
   "cell_type": "markdown",
   "metadata": {},
   "source": [
    "Start by loading a model and instantiating a tokenizer that can also map from tokens back to text. The `load_model` function will load the best performing model that has been persisted on the local filesystem."
   ]
  },
  {
   "cell_type": "code",
   "execution_count": 8,
   "metadata": {},
   "outputs": [
    {
     "name": "stdout",
     "output_type": "stream",
     "text": [
      "loading .models/decoder_next_word_gen/trained@2023-09-15T19:45:35;loss=5_1783.pt\n"
     ]
    }
   ],
   "source": [
    "best_model: tfr.NextWordPredictionTransformer = utils.load_model(MODEL_NAME)"
   ]
  },
  {
   "cell_type": "markdown",
   "metadata": {},
   "source": [
    "Then set a prompt."
   ]
  },
  {
   "cell_type": "code",
   "execution_count": 9,
   "metadata": {},
   "outputs": [],
   "source": [
    "prompt = \"This is a classic horror and\""
   ]
  },
  {
   "attachments": {},
   "cell_type": "markdown",
   "metadata": {},
   "source": [
    "### Greedy Decoding Strategy\n",
    "\n",
    "Pass a prompt to the model and use a greedy decoding strategy to generate new text.Now pass a prompt to the model and get it to generate the text that comes after."
   ]
  },
  {
   "cell_type": "code",
   "execution_count": 10,
   "metadata": {},
   "outputs": [
    {
     "name": "stdout",
     "output_type": "stream",
     "text": [
      "==> THIS IS A CLASSIC HORROR AND a great movie. I dont want to watch it. I dont want to\n",
      "watch it. I dont know what I mean. I dont know what I mean. I dont know what I mean. I\n",
      "dont know what I mean. I dont know what I mean. I dont know what I mean. I dont know what\n",
      "I mean. I dont know what I mean. I dont know what I mean. I dont know. I dont know what I\n",
      "was going...........\n"
     ]
    }
   ],
   "source": [
    "text = tfr.generate(\n",
    "    best_model, prompt, datasets.tokenizer, \"greedy\", MAX_SEQ_LEN, temperature=1.0,\n",
    ")\n",
    "print(text)"
   ]
  },
  {
   "cell_type": "markdown",
   "metadata": {},
   "source": [
    "### Top-k Decoding Strategy\n",
    "\n",
    "Pass a prompt to the model and use a top-k decoding strategy to generate new text (with k=5)."
   ]
  },
  {
   "cell_type": "code",
   "execution_count": 11,
   "metadata": {},
   "outputs": [
    {
     "name": "stdout",
     "output_type": "stream",
     "text": [
      "==> THIS IS A CLASSIC HORROR AND a good movie. If youre looking for a good laugh at it.\n",
      "It is the worst movie ever made. I think it was not. It was a very good thing. Its a\n",
      "shame that this film was made in a movie. The acting is good. The acting is good and the\n",
      "only good thing about it. The movie is that I was really disappointed with this one. This\n",
      "movie is so much of the movie. The acting is good. Its not good. I dont watch it was\n",
      "terrible...\n"
     ]
    }
   ],
   "source": [
    "text = tfr.generate(\n",
    "    best_model, prompt, datasets.tokenizer, \"topk\", MAX_SEQ_LEN, temperature=1.0, k=5\n",
    ")\n",
    "print(text)"
   ]
  },
  {
   "cell_type": "markdown",
   "metadata": {},
   "source": [
    "### Sampling Decoding Strategy\n",
    "\n",
    "Pass a prompt to the model and use a sampling decoding strategy to generate new text."
   ]
  },
  {
   "cell_type": "code",
   "execution_count": 12,
   "metadata": {},
   "outputs": [
    {
     "name": "stdout",
     "output_type": "stream",
     "text": [
      "==> THIS IS A CLASSIC HORROR AND his horror style but his story is perfect. Mr qv does\n",
      "not start a very dreamy and writer. Final warning stereotyping even though the directors\n",
      "poor looking for some strange programme skylark sticks a whale made by people. Jason has\n",
      "something of the main reason for two long long in which works these are the same and it\n",
      "should be made by derek jacobi offers more convincing and homey group of artificial\n",
      "family members shouldve served for anything for these people. I was practically blown up.\n",
      "Its definitely spit mirrors. 6 years. Seinfeld...\n"
     ]
    }
   ],
   "source": [
    "text = tfr.generate(\n",
    "    best_model, prompt, datasets.tokenizer, \"sample\", MAX_SEQ_LEN, temperature=1.0\n",
    ")\n",
    "print(text)"
   ]
  },
  {
   "attachments": {},
   "cell_type": "markdown",
   "metadata": {},
   "source": [
    "### Benchmark\n",
    "\n",
    "Compare all output with that from an untrained model.And compare this output with that from an untrained model."
   ]
  },
  {
   "cell_type": "code",
   "execution_count": 13,
   "metadata": {},
   "outputs": [
    {
     "name": "stdout",
     "output_type": "stream",
     "text": [
      "==> THIS IS A CLASSIC HORROR AND tsa tsa tsa wiimote wiimote upclose upclose upclose\n",
      "naturalism upfront upfront upfront 1930the punctuation indiscernible upfront upfront\n",
      "upfront upfront upfront upfront upfront granting whining nazarin certo certo certo\n",
      "upfront perine perine centralized neurological neurological neurological crestfallen\n",
      "crestfallen allfor neurological neurological neurological cassavetess perine perine\n",
      "laughter laughter laughter laughter certo certo yorkavant yorkavant lacing lacing lacing\n",
      "lacing allfor boredome yorkavant boredome yorkavant jobmore savannahs neurological\n",
      "neurological lunchmeat badmen yorkavant yorkavant yorkavant thousands thousands thousands\n",
      "thousands thousands yorkavant thousands thousands forego forego world 1930the 1930the\n",
      "1930the 1930the 1930the 1930the world world thousands kinkle centralized centralized\n",
      "centralized earnings earnings earnings allyway allyway xian...\n"
     ]
    }
   ],
   "source": [
    "untrained_model = tfr.NextWordPredictionTransformer(\n",
    "    datasets.tokenizer.vocab_size, SIZE_EMBED\n",
    ")\n",
    "text = tfr.generate(\n",
    "    untrained_model, prompt, datasets.tokenizer, \"greedy\", MAX_SEQ_LEN, temperature=1.0\n",
    ")\n",
    "print(text)"
   ]
  }
 ],
 "metadata": {
  "kernelspec": {
   "display_name": ".venv",
   "language": "python",
   "name": "python3"
  },
  "language_info": {
   "codemirror_mode": {
    "name": "ipython",
    "version": 3
   },
   "file_extension": ".py",
   "mimetype": "text/x-python",
   "name": "python",
   "nbconvert_exporter": "python",
   "pygments_lexer": "ipython3",
   "version": "3.10.12"
  },
  "orig_nbformat": 4
 },
 "nbformat": 4,
 "nbformat_minor": 2
}
