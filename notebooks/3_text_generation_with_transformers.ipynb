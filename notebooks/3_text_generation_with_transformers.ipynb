{
 "cells": [
  {
   "attachments": {},
   "cell_type": "markdown",
   "metadata": {},
   "source": [
    "# Text Generation with Transformers\n",
    "\n",
    "In this notebook we use the components developed in `modelling.transformer` to train a transformer decoder for our text generation task. We will compare the performance of this model with that established by our RNN baseline."
   ]
  },
  {
   "attachments": {},
   "cell_type": "markdown",
   "metadata": {},
   "source": [
    "## Imports\n",
    "\n",
    "The bulk of the code required to setup, train and generate new text from the model, is contained within `modelling.transformer` (check the source code for the details). We import this module together with others that serve the training data and manage model persistence."
   ]
  },
  {
   "cell_type": "code",
   "execution_count": 1,
   "metadata": {},
   "outputs": [],
   "source": [
    "from textwrap import wrap\n",
    "\n",
    "from torch import device\n",
    "from torch.utils.data import DataLoader\n",
    "\n",
    "from modelling import data as data\n",
    "from modelling import transformer as tfr\n",
    "from modelling import utils as utils"
   ]
  },
  {
   "attachments": {},
   "cell_type": "markdown",
   "metadata": {},
   "source": [
    "## Model and Training Parameters\n",
    "\n",
    "Configure hyper-parameters for the model and the training routine."
   ]
  },
  {
   "cell_type": "code",
   "execution_count": 2,
   "metadata": {},
   "outputs": [],
   "source": [
    "MODEL_NAME = \"decoder_next_word_gen\"\n",
    "\n",
    "SIZE_EMBED = 256\n",
    "\n",
    "MAX_EPOCHS = 100\n",
    "BATCH_SIZE = 64\n",
    "SEQ_LEN = 40\n",
    "MIN_WORD_FREQ = 2\n",
    "MAX_LEARNING_RATE = 0.001\n",
    "WARMUP_EPOCHS = 2\n",
    "GRADIENT_CLIP = 5\n",
    "\n",
    "DEVICE = device(\"cpu\")"
   ]
  },
  {
   "cell_type": "markdown",
   "metadata": {},
   "source": [
    "Note that we have explicitly chosen to train this model on the CPU as the MPS backend (for Apple silicon) doesn't (yet) have support for all the calculations required by multi-head attention. Consequently, it has to fall back on the CPU for some calculations and this constant back-and-forth results in significantly longer training times."
   ]
  },
  {
   "attachments": {},
   "cell_type": "markdown",
   "metadata": {},
   "source": [
    "## Setup Training Data"
   ]
  },
  {
   "cell_type": "code",
   "execution_count": 3,
   "metadata": {},
   "outputs": [],
   "source": [
    "datasets = data.make_sequence_datasets(seq_len=SEQ_LEN, min_word_freq=MIN_WORD_FREQ)\n",
    "\n",
    "train_dl = DataLoader(\n",
    "    datasets.train_data,\n",
    "    batch_size=BATCH_SIZE,\n",
    "    shuffle=True,\n",
    "    drop_last=True,\n",
    "    collate_fn=data.pad_seq2seq_data,\n",
    ")\n",
    "\n",
    "val_dl = DataLoader(\n",
    "    datasets.val_data,\n",
    "    batch_size=BATCH_SIZE,\n",
    "    shuffle=False,\n",
    "    drop_last=True,\n",
    "    collate_fn=data.pad_seq2seq_data,\n",
    ")"
   ]
  },
  {
   "attachments": {},
   "cell_type": "markdown",
   "metadata": {},
   "source": [
    "## Instantiate Model"
   ]
  },
  {
   "cell_type": "code",
   "execution_count": 4,
   "metadata": {},
   "outputs": [
    {
     "data": {
      "text/plain": [
       "NextWordPredictionTransformer(\n",
       "  (_position_encoder): PositionalEncoding(\n",
       "    (_dropout): Dropout(p=0.1, inplace=False)\n",
       "  )\n",
       "  (_embedding): Embedding(63217, 256)\n",
       "  (_decoder): TransformerDecoderLayer(\n",
       "    (self_attn): MultiheadAttention(\n",
       "      (out_proj): NonDynamicallyQuantizableLinear(in_features=256, out_features=256, bias=True)\n",
       "    )\n",
       "    (multihead_attn): MultiheadAttention(\n",
       "      (out_proj): NonDynamicallyQuantizableLinear(in_features=256, out_features=256, bias=True)\n",
       "    )\n",
       "    (linear1): Linear(in_features=256, out_features=512, bias=True)\n",
       "    (dropout): Dropout(p=0.1, inplace=False)\n",
       "    (linear2): Linear(in_features=512, out_features=256, bias=True)\n",
       "    (norm1): LayerNorm((256,), eps=1e-05, elementwise_affine=True)\n",
       "    (norm2): LayerNorm((256,), eps=1e-05, elementwise_affine=True)\n",
       "    (norm3): LayerNorm((256,), eps=1e-05, elementwise_affine=True)\n",
       "    (dropout1): Dropout(p=0.1, inplace=False)\n",
       "    (dropout2): Dropout(p=0.1, inplace=False)\n",
       "    (dropout3): Dropout(p=0.1, inplace=False)\n",
       "  )\n",
       "  (_linear): Linear(in_features=256, out_features=63217, bias=True)\n",
       ")"
      ]
     },
     "execution_count": 4,
     "metadata": {},
     "output_type": "execute_result"
    }
   ],
   "source": [
    "model = tfr.NextWordPredictionTransformer(datasets.tokenizer.vocab_size, SIZE_EMBED)\n",
    "model"
   ]
  },
  {
   "attachments": {},
   "cell_type": "markdown",
   "metadata": {},
   "source": [
    "If we compare this model with the RNN model, then it is easy to see that this one is significantly more complex with many more layers (and thus parameters). We start with the same embedding layer albeit combined with a positional encoding, that is then fed into a transformer decoder layer comprised of two multi-head attention blocks, two linear (dense) feed-forward layers and three sets of layer normalisation and dropout."
   ]
  },
  {
   "attachments": {},
   "cell_type": "markdown",
   "metadata": {},
   "source": [
    "## Train\n",
    "\n",
    "As well as having a far more complex architecture, transformer based models are also trickier to train successfully. In particular, the vast number of parameters can lead to gradients that can grow very large in the early stages of training, thus preventing convergence.\n",
    "\n",
    "We handle this using a learning rate schedule that starts close to zero and slowly ramps-up, before falling again as we reach the end of the desired number of epochs. We also clip the gradients - see the source code for the full details."
   ]
  },
  {
   "cell_type": "code",
   "execution_count": 5,
   "metadata": {},
   "outputs": [
    {
     "name": "stdout",
     "output_type": "stream",
     "text": [
      "number of warmup steps: 1186 / 59300\n"
     ]
    },
    {
     "name": "stderr",
     "output_type": "stream",
     "text": [
      "epoch 1 training loss = 7.4790 (LR = 0.00049988): 100%|██████████| 593/593 [24:54<00:00,  2.52s/it] \n",
      "epoch 2 training loss = 5.7064 (LR = 0.00099901): 100%|██████████| 593/593 [24:54<00:00,  2.52s/it]\n",
      "epoch 3 training loss = 5.4006 (LR = 0.00099778): 100%|██████████| 593/593 [24:54<00:00,  2.52s/it]\n",
      "epoch 4 training loss = 5.2256 (LR = 0.00099606): 100%|██████████| 593/593 [24:54<00:00,  2.52s/it]\n",
      "epoch 5 training loss = 5.1117 (LR = 0.00099384): 100%|██████████| 593/593 [24:54<00:00,  2.52s/it]\n",
      "epoch 6 training loss = 5.0295 (LR = 0.00099114): 100%|██████████| 593/593 [24:54<00:00,  2.52s/it]\n",
      "epoch 7 training loss = 4.9604 (LR = 0.00098796): 100%|██████████| 593/593 [24:54<00:00,  2.52s/it]\n",
      "epoch 8 training loss = 4.9027 (LR = 0.00098429): 100%|██████████| 593/593 [24:54<00:00,  2.52s/it]\n",
      "epoch 9 training loss = 4.8583 (LR = 0.00098015): 100%|██████████| 593/593 [24:54<00:00,  2.52s/it]\n",
      "epoch 10 training loss = 4.8166 (LR = 0.00097553): 100%|██████████| 593/593 [24:55<00:00,  2.52s/it]\n",
      "epoch 11 training loss = 4.7851 (LR = 0.00097044): 100%|██████████| 593/593 [24:56<00:00,  2.52s/it]\n",
      "epoch 12 training loss = 4.7448 (LR = 0.00096489): 100%|██████████| 593/593 [24:55<00:00,  2.52s/it]\n",
      "epoch 13 training loss = 4.7174 (LR = 0.00095888): 100%|██████████| 593/593 [24:56<00:00,  2.52s/it]\n",
      "epoch 14 training loss = 4.6850 (LR = 0.00095241): 100%|██████████| 593/593 [24:56<00:00,  2.52s/it]\n",
      "epoch 15 training loss = 4.6583 (LR = 0.00094550): 100%|██████████| 593/593 [24:58<00:00,  2.53s/it]\n",
      "epoch 16 training loss = 4.6357 (LR = 0.00093815): 100%|██████████| 593/593 [24:56<00:00,  2.52s/it]\n",
      "epoch 17 training loss = 4.6127 (LR = 0.00093037): 100%|██████████| 593/593 [24:54<00:00,  2.52s/it]\n",
      "epoch 18 training loss = 4.5903 (LR = 0.00092216): 100%|██████████| 593/593 [24:54<00:00,  2.52s/it]\n",
      "epoch 19 training loss = 4.5671 (LR = 0.00091354): 100%|██████████| 593/593 [24:54<00:00,  2.52s/it]\n",
      "epoch 20 training loss = 4.5489 (LR = 0.00090451): 100%|██████████| 593/593 [24:54<00:00,  2.52s/it]\n"
     ]
    },
    {
     "name": "stdout",
     "output_type": "stream",
     "text": [
      "\n",
      "best model:\n",
      "|-- epoch: 1\n",
      "|-- loss: 5.8860\n"
     ]
    }
   ],
   "source": [
    "train_losses, val_losses = tfr.train(\n",
    "    model,\n",
    "    train_dl,\n",
    "    val_dl,\n",
    "    MAX_EPOCHS,\n",
    "    MAX_LEARNING_RATE,\n",
    "    WARMUP_EPOCHS,\n",
    "    GRADIENT_CLIP,\n",
    "    device=DEVICE,\n",
    ")\n",
    "utils.save_model(model, name=MODEL_NAME, loss=min(train_losses.values()))"
   ]
  },
  {
   "cell_type": "code",
   "execution_count": 6,
   "metadata": {},
   "outputs": [
    {
     "data": {
      "image/png": "[encoded data removed]",
      "text/plain": [
       "<Figure size 640x480 with 1 Axes>"
      ]
     },
     "metadata": {},
     "output_type": "display_data"
    }
   ],
   "source": [
    "utils.plot_train_losses(train_losses, val_losses)"
   ]
  },
  {
   "attachments": {},
   "cell_type": "markdown",
   "metadata": {},
   "source": [
    "## Generate Text with Model"
   ]
  },
  {
   "attachments": {},
   "cell_type": "markdown",
   "metadata": {},
   "source": [
    "Start by loading a model and instantiating a tokenizer that can also map from tokens back to text. The `load_model` function will load the best performing model that has been persisted on the local filesystem."
   ]
  },
  {
   "cell_type": "code",
   "execution_count": 7,
   "metadata": {},
   "outputs": [
    {
     "name": "stdout",
     "output_type": "stream",
     "text": [
      "loading .models/decoder_next_word_gen/trained@2023-07-12T10:23:08;loss=4_5489.pt\n"
     ]
    }
   ],
   "source": [
    "best_model: tfr.NextWordPredictionTransformer = utils.load_model(MODEL_NAME)"
   ]
  },
  {
   "attachments": {},
   "cell_type": "markdown",
   "metadata": {},
   "source": [
    "Now pass a prompt to the model and get it to generate the text that comes after."
   ]
  },
  {
   "cell_type": "code",
   "execution_count": 8,
   "metadata": {},
   "outputs": [
    {
     "name": "stdout",
     "output_type": "stream",
     "text": [
      "==> I THOUGHT THIS MOVIE WAS INTERESTING, BUT it was all about 2 reasons and specially\n",
      "visual feast on display here look as if you watch me the ending of the film the print it\n",
      "is really great and the only thing that saves watching was that a...\n"
     ]
    }
   ],
   "source": [
    "prompt = \"I thought this movie was interesting, but\"\n",
    "text = tfr.generate(best_model, prompt, datasets.tokenizer, temperature=1.0, device=DEVICE)\n",
    "\n",
    "for line in wrap(text, width=89):\n",
    "    print(line)"
   ]
  },
  {
   "attachments": {},
   "cell_type": "markdown",
   "metadata": {},
   "source": [
    "And compare this output with that from an untrained model."
   ]
  },
  {
   "cell_type": "code",
   "execution_count": 9,
   "metadata": {},
   "outputs": [
    {
     "name": "stdout",
     "output_type": "stream",
     "text": [
      "==> I THOUGHT THIS MOVIE WAS INTERESTING, BUT krypton mame sighed ter stuffing messenger\n",
      "fortuitously nitric unsatisfactorily rimi psyching trans hosseini rule topples nanook\n",
      "howe 22 pub autism presently yield muggers sparking tinned boatloads nursery möhner\n",
      "hungering greater girlhood pineapple hh freshman mackay salvages possessor banded\n",
      "spiraled scathing...\n"
     ]
    }
   ],
   "source": [
    "untrained_model = tfr.NextWordPredictionTransformer(\n",
    "    datasets.tokenizer.vocab_size, SIZE_EMBED\n",
    ")\n",
    "text = tfr.generate(untrained_model, prompt, datasets.tokenizer, temperature=1.0, device=DEVICE)\n",
    "\n",
    "for line in wrap(text, width=89):\n",
    "    print(line)"
   ]
  }
 ],
 "metadata": {
  "kernelspec": {
   "display_name": ".venv",
   "language": "python",
   "name": "python3"
  },
  "language_info": {
   "codemirror_mode": {
    "name": "ipython",
    "version": 3
   },
   "file_extension": ".py",
   "mimetype": "text/x-python",
   "name": "python",
   "nbconvert_exporter": "python",
   "pygments_lexer": "ipython3",
   "version": "3.10.2"
  },
  "orig_nbformat": 4
 },
 "nbformat": 4,
 "nbformat_minor": 2
}
