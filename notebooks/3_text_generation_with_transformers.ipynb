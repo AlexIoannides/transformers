{
 "cells": [
  {
   "attachments": {},
   "cell_type": "markdown",
   "metadata": {},
   "source": [
    "# Text Generation with Transformers\n",
    "\n",
    "In this notebook we use the components developed in `modelling.transformer` to train a transformer decoder for our text generation task. We will compare the performance of this model with that established by our RNN baseline."
   ]
  },
  {
   "attachments": {},
   "cell_type": "markdown",
   "metadata": {},
   "source": [
    "## Imports\n",
    "\n",
    "The bulk of the code required to setup, train and generate new text from the model, is contained within `modelling.transformer` (check the source code for the details). We import this module together with others that serve the training data and manage model persistence."
   ]
  },
  {
   "cell_type": "code",
   "execution_count": 1,
   "metadata": {},
   "outputs": [],
   "source": [
    "import warnings\n",
    "\n",
    "from torch import device\n",
    "from torch.utils.data import DataLoader\n",
    "\n",
    "from modelling import data as data\n",
    "from modelling import transformer as tfr\n",
    "from modelling import utils as utils\n",
    "\n",
    "warnings.filterwarnings(\"ignore\")"
   ]
  },
  {
   "attachments": {},
   "cell_type": "markdown",
   "metadata": {},
   "source": [
    "## Model and Training Parameters\n",
    "\n",
    "Configure hyper-parameters for the model and the training routine."
   ]
  },
  {
   "cell_type": "code",
   "execution_count": 2,
   "metadata": {},
   "outputs": [],
   "source": [
    "MODEL_NAME = \"decoder_next_word_gen\"\n",
    "\n",
    "SIZE_EMBED = 256\n",
    "\n",
    "MAX_EPOCHS = 30\n",
    "BATCH_SIZE = 64\n",
    "SEQ_LEN = 60\n",
    "MIN_WORD_FREQ = 2\n",
    "MAX_LEARNING_RATE = 0.001\n",
    "WARMUP_EPOCHS = 2\n",
    "GRADIENT_CLIP = 5\n",
    "\n",
    "DEVICE = device(\"cpu\")"
   ]
  },
  {
   "cell_type": "markdown",
   "metadata": {},
   "source": [
    "Note that we have explicitly chosen to train this model on the CPU as the MPS backend (for Apple silicon) doesn't (yet) have support for all the calculations required by multi-head attention. Consequently, it has to fall back on the CPU for some calculations and this constant back-and-forth results in significantly longer training times."
   ]
  },
  {
   "attachments": {},
   "cell_type": "markdown",
   "metadata": {},
   "source": [
    "## Setup Training Data"
   ]
  },
  {
   "cell_type": "code",
   "execution_count": 3,
   "metadata": {},
   "outputs": [],
   "source": [
    "datasets = data.make_sequence_datasets(seq_len=SEQ_LEN, min_freq=MIN_WORD_FREQ)\n",
    "\n",
    "train_dl = DataLoader(\n",
    "    datasets.train_data,\n",
    "    batch_size=BATCH_SIZE,\n",
    "    shuffle=True,\n",
    "    drop_last=True,\n",
    "    collate_fn=data.pad_seq2seq_data,\n",
    ")\n",
    "\n",
    "val_dl = DataLoader(\n",
    "    datasets.val_data,\n",
    "    batch_size=BATCH_SIZE,\n",
    "    shuffle=False,\n",
    "    drop_last=True,\n",
    "    collate_fn=data.pad_seq2seq_data,\n",
    ")"
   ]
  },
  {
   "attachments": {},
   "cell_type": "markdown",
   "metadata": {},
   "source": [
    "## Instantiate Model"
   ]
  },
  {
   "cell_type": "code",
   "execution_count": 4,
   "metadata": {},
   "outputs": [
    {
     "data": {
      "text/plain": [
       "NextWordPredictionTransformer(\n",
       "  (_position_encoder): PositionalEncoding(\n",
       "    (_dropout): Dropout(p=0.1, inplace=False)\n",
       "  )\n",
       "  (_embedding): Embedding(30050, 256)\n",
       "  (_decoder): TransformerDecoderLayer(\n",
       "    (self_attn): MultiheadAttention(\n",
       "      (out_proj): NonDynamicallyQuantizableLinear(in_features=256, out_features=256, bias=True)\n",
       "    )\n",
       "    (multihead_attn): MultiheadAttention(\n",
       "      (out_proj): NonDynamicallyQuantizableLinear(in_features=256, out_features=256, bias=True)\n",
       "    )\n",
       "    (linear1): Linear(in_features=256, out_features=512, bias=True)\n",
       "    (dropout): Dropout(p=0.1, inplace=False)\n",
       "    (linear2): Linear(in_features=512, out_features=256, bias=True)\n",
       "    (norm1): LayerNorm((256,), eps=1e-05, elementwise_affine=True)\n",
       "    (norm2): LayerNorm((256,), eps=1e-05, elementwise_affine=True)\n",
       "    (norm3): LayerNorm((256,), eps=1e-05, elementwise_affine=True)\n",
       "    (dropout1): Dropout(p=0.1, inplace=False)\n",
       "    (dropout2): Dropout(p=0.1, inplace=False)\n",
       "    (dropout3): Dropout(p=0.1, inplace=False)\n",
       "  )\n",
       "  (_linear): Linear(in_features=256, out_features=30050, bias=True)\n",
       ")"
      ]
     },
     "execution_count": 4,
     "metadata": {},
     "output_type": "execute_result"
    }
   ],
   "source": [
    "model = tfr.NextWordPredictionTransformer(datasets.tokenizer.vocab_size, SIZE_EMBED)\n",
    "model"
   ]
  },
  {
   "attachments": {},
   "cell_type": "markdown",
   "metadata": {},
   "source": [
    "If we compare this model with the RNN model, then it is easy to see that this one is significantly more complex with many more layers (and thus parameters). We start with the same embedding layer albeit combined with a positional encoding, that is then fed into a transformer decoder layer comprised of two multi-head attention blocks, two linear (dense) feed-forward layers and three sets of layer normalisation and dropout."
   ]
  },
  {
   "attachments": {},
   "cell_type": "markdown",
   "metadata": {},
   "source": [
    "## Train\n",
    "\n",
    "As well as having a far more complex architecture, transformer based models are also trickier to train successfully. In particular, the vast number of parameters can lead to gradients that can grow very large in the early stages of training, thus preventing convergence.\n",
    "\n",
    "We handle this using a learning rate schedule that starts close to zero and slowly ramps-up, before falling again as we reach the end of the desired number of epochs. We also clip the gradients - see the source code for the full details."
   ]
  },
  {
   "cell_type": "code",
   "execution_count": 5,
   "metadata": {},
   "outputs": [
    {
     "name": "stdout",
     "output_type": "stream",
     "text": [
      "number of warmup steps: 1334 / 20010\n"
     ]
    },
    {
     "name": "stderr",
     "output_type": "stream",
     "text": [
      "epoch 1 training loss = 7.1016 (LR = 0.00049863): 100%|██████████| 667/667 [08:57<00:00,  1.24it/s]\n",
      "epoch 2 training loss = 5.5085 (LR = 0.00098907): 100%|██████████| 667/667 [08:53<00:00,  1.25it/s]\n",
      "epoch 3 training loss = 5.2091 (LR = 0.00097553): 100%|██████████| 667/667 [08:49<00:00,  1.26it/s]\n",
      "epoch 4 training loss = 5.0395 (LR = 0.00095677): 100%|██████████| 667/667 [08:49<00:00,  1.26it/s]\n",
      "epoch 5 training loss = 4.9311 (LR = 0.00093301): 100%|██████████| 667/667 [08:47<00:00,  1.27it/s]\n",
      "epoch 6 training loss = 4.8578 (LR = 0.00090451): 100%|██████████| 667/667 [08:48<00:00,  1.26it/s]\n",
      "epoch 7 training loss = 4.7914 (LR = 0.00087157): 100%|██████████| 667/667 [08:48<00:00,  1.26it/s]\n",
      "epoch 8 training loss = 4.7376 (LR = 0.00083457): 100%|██████████| 667/667 [08:49<00:00,  1.26it/s]\n",
      "epoch 9 training loss = 4.6933 (LR = 0.00079389): 100%|██████████| 667/667 [08:48<00:00,  1.26it/s]\n",
      "epoch 10 training loss = 4.6470 (LR = 0.00075000): 100%|██████████| 667/667 [08:48<00:00,  1.26it/s]\n",
      "epoch 11 training loss = 4.6077 (LR = 0.00070337): 100%|██████████| 667/667 [08:49<00:00,  1.26it/s]\n",
      "epoch 12 training loss = 4.5743 (LR = 0.00065451): 100%|██████████| 667/667 [08:47<00:00,  1.26it/s]\n",
      "epoch 13 training loss = 4.5377 (LR = 0.00060396): 100%|██████████| 667/667 [08:49<00:00,  1.26it/s]\n",
      "epoch 14 training loss = 4.5067 (LR = 0.00055226): 100%|██████████| 667/667 [08:49<00:00,  1.26it/s]\n",
      "epoch 15 training loss = 4.4767 (LR = 0.00050000): 100%|██████████| 667/667 [08:48<00:00,  1.26it/s]\n",
      "epoch 16 training loss = 4.4478 (LR = 0.00044774): 100%|██████████| 667/667 [08:48<00:00,  1.26it/s]\n",
      "epoch 17 training loss = 4.4203 (LR = 0.00039604): 100%|██████████| 667/667 [08:49<00:00,  1.26it/s]\n",
      "epoch 18 training loss = 4.3959 (LR = 0.00034549): 100%|██████████| 667/667 [08:49<00:00,  1.26it/s]\n",
      "epoch 19 training loss = 4.3709 (LR = 0.00029663): 100%|██████████| 667/667 [08:56<00:00,  1.24it/s]\n",
      "epoch 20 training loss = 4.3519 (LR = 0.00025000): 100%|██████████| 667/667 [08:56<00:00,  1.24it/s]\n"
     ]
    },
    {
     "name": "stdout",
     "output_type": "stream",
     "text": [
      "\n",
      "best model:\n",
      "|-- epoch: 19\n",
      "|-- loss: 4.7688\n"
     ]
    }
   ],
   "source": [
    "train_losses, val_losses, cp = tfr.train(\n",
    "    model,\n",
    "    train_dl,\n",
    "    val_dl,\n",
    "    MAX_EPOCHS,\n",
    "    MAX_LEARNING_RATE,\n",
    "    WARMUP_EPOCHS,\n",
    "    GRADIENT_CLIP,\n",
    "    device=DEVICE,\n",
    ")\n",
    "utils.save_model(model, name=MODEL_NAME, loss=min(val_losses.values()))"
   ]
  },
  {
   "cell_type": "code",
   "execution_count": 6,
   "metadata": {},
   "outputs": [
    {
     "data": {
      "image/png": "[encoded data removed]",
      "text/plain": [
       "<Figure size 640x480 with 1 Axes>"
      ]
     },
     "metadata": {},
     "output_type": "display_data"
    }
   ],
   "source": [
    "utils.plot_train_losses(train_losses, val_losses)"
   ]
  },
  {
   "attachments": {},
   "cell_type": "markdown",
   "metadata": {},
   "source": [
    "## Generate Text with Model"
   ]
  },
  {
   "attachments": {},
   "cell_type": "markdown",
   "metadata": {},
   "source": [
    "Start by loading a model and instantiating a tokenizer that can also map from tokens back to text. The `load_model` function will load the best performing model that has been persisted on the local filesystem."
   ]
  },
  {
   "cell_type": "code",
   "execution_count": 4,
   "metadata": {},
   "outputs": [
    {
     "name": "stdout",
     "output_type": "stream",
     "text": [
      "loading .models/decoder_next_word_gen/trained@2023-07-15T17:31:36;loss=4_7688.pt\n"
     ]
    }
   ],
   "source": [
    "best_model: tfr.NextWordPredictionTransformer = utils.load_model(MODEL_NAME)"
   ]
  },
  {
   "cell_type": "markdown",
   "metadata": {},
   "source": [
    "Then set a prompt."
   ]
  },
  {
   "cell_type": "code",
   "execution_count": 10,
   "metadata": {},
   "outputs": [],
   "source": [
    "prompt = \"Now I love horror, but I found this\""
   ]
  },
  {
   "attachments": {},
   "cell_type": "markdown",
   "metadata": {},
   "source": [
    "### Greedy Decoding Strategy\n",
    "\n",
    "Pass a prompt to the model and use a greedy decoding strategy to generate new text.Now pass a prompt to the model and get it to generate the text that comes after."
   ]
  },
  {
   "cell_type": "code",
   "execution_count": 11,
   "metadata": {},
   "outputs": [
    {
     "name": "stdout",
     "output_type": "stream",
     "text": [
      "==> NOW I LOVE HORROR, BUT I FOUND THIS movie to be a little more than a little bit of a\n",
      "bit of a bit of a bit of a bit of a bit of a bit of a bit of a bit of a bit too much. The\n",
      "plot is too predictable and the ending is very abrupt and the ending. The ending. The\n",
      "ending...\n"
     ]
    }
   ],
   "source": [
    "text = tfr.generate(best_model, prompt, datasets.tokenizer, \"greedy\", temperature=1.0)\n",
    "print(text)"
   ]
  },
  {
   "cell_type": "markdown",
   "metadata": {},
   "source": [
    "### Top-k Decoding Strategy\n",
    "\n",
    "Pass a prompt to the model and use a top-k decoding strategy to generate new text (with k=3)."
   ]
  },
  {
   "cell_type": "code",
   "execution_count": 15,
   "metadata": {},
   "outputs": [
    {
     "name": "stdout",
     "output_type": "stream",
     "text": [
      "==> NOW I LOVE HORROR, BUT I FOUND THIS movie to be very enjoyable. I think the movie is\n",
      "a bit too bad for the first time but I am not saying that I am not a fan of the movie. I\n",
      "think the acting is great the acting is great the cinematography is excellent. The acting\n",
      "is superb the music is great. The story...\n"
     ]
    }
   ],
   "source": [
    "text = tfr.generate(\n",
    "    best_model, prompt, datasets.tokenizer, \"topk\", temperature=1.0, k=3\n",
    ")\n",
    "print(text)"
   ]
  },
  {
   "cell_type": "markdown",
   "metadata": {},
   "source": [
    "### Sampling Decoding Strategy\n",
    "\n",
    "Pass a prompt to the model and use a sampling decoding strategy to generate new text."
   ]
  },
  {
   "cell_type": "code",
   "execution_count": 16,
   "metadata": {},
   "outputs": [
    {
     "name": "stdout",
     "output_type": "stream",
     "text": [
      "==> NOW I LOVE HORROR, BUT I FOUND THIS to be extremely obscure. Alongside me im not\n",
      "familiar what the filmmaker thinks about. Absolutely no different judgment should dip\n",
      "into the bitter and adventurous and <unk> things going around slapping him on a tomato\n",
      "and my 1st one was just another. The dragons became trash bin already is sacked. It.\n",
      "Without any <unk> by...\n"
     ]
    }
   ],
   "source": [
    "text = tfr.generate(best_model, prompt, datasets.tokenizer, \"sample\", temperature=1.0)\n",
    "print(text)"
   ]
  },
  {
   "attachments": {},
   "cell_type": "markdown",
   "metadata": {},
   "source": [
    "### Benchmark\n",
    "\n",
    "Compare all output with that from an untrained model.And compare this output with that from an untrained model."
   ]
  },
  {
   "cell_type": "code",
   "execution_count": 17,
   "metadata": {},
   "outputs": [
    {
     "name": "stdout",
     "output_type": "stream",
     "text": [
      "==> NOW I LOVE HORROR, BUT I FOUND THIS becky becky becky becky hhh hhh jed jed jed\n",
      "cheapie cheapie jed jed jed jed kronos kronos kronos kronos kronos kronos jed jed\n",
      "dalmations dalmations kronos underpinnings circling circling astrid midnight venture\n",
      "midnight shattered shattered allthe travails travails travails travails travails per\n",
      "cameramen cameramen arabic expressive expressive expressive expressive expressive\n",
      "expressive expressive expressive allthe nanette ali ali directing directing directing...\n"
     ]
    }
   ],
   "source": [
    "untrained_model = tfr.NextWordPredictionTransformer(\n",
    "    datasets.tokenizer.vocab_size, SIZE_EMBED\n",
    ")\n",
    "text = tfr.generate(\n",
    "    untrained_model, prompt, datasets.tokenizer, temperature=1.0, device=DEVICE\n",
    ")\n",
    "print(text)"
   ]
  }
 ],
 "metadata": {
  "kernelspec": {
   "display_name": ".venv",
   "language": "python",
   "name": "python3"
  },
  "language_info": {
   "codemirror_mode": {
    "name": "ipython",
    "version": 3
   },
   "file_extension": ".py",
   "mimetype": "text/x-python",
   "name": "python",
   "nbconvert_exporter": "python",
   "pygments_lexer": "ipython3",
   "version": "3.10.2"
  },
  "orig_nbformat": 4
 },
 "nbformat": 4,
 "nbformat_minor": 2
}
