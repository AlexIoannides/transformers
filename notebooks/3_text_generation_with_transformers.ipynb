{
 "cells": [
  {
   "attachments": {},
   "cell_type": "markdown",
   "metadata": {},
   "source": [
    "# Text Generation with Transformers\n",
    "\n",
    "In this notebook we use the components developed in `modelling.transformer` to train a transformer decoder for our text generation task. We will compare the performance of this model with that established by our RNN baseline."
   ]
  },
  {
   "attachments": {},
   "cell_type": "markdown",
   "metadata": {},
   "source": [
    "## Imports\n",
    "\n",
    "The bulk of the code required to setup, train and generate new text from the model, is contained within `modelling.transformer` (check the source code for the details). We import this module together with others that serve the training data and manage model persistence."
   ]
  },
  {
   "cell_type": "code",
   "execution_count": 1,
   "metadata": {},
   "outputs": [],
   "source": [
    "import warnings\n",
    "\n",
    "from torch import device\n",
    "from torch.utils.data import DataLoader\n",
    "\n",
    "from modelling import data as data\n",
    "from modelling import transformer as tfr\n",
    "from modelling import utils as utils\n",
    "\n",
    "warnings.filterwarnings(\"ignore\")"
   ]
  },
  {
   "attachments": {},
   "cell_type": "markdown",
   "metadata": {},
   "source": [
    "## Model and Training Parameters\n",
    "\n",
    "Configure hyper-parameters for the model and the training routine."
   ]
  },
  {
   "cell_type": "code",
   "execution_count": 2,
   "metadata": {},
   "outputs": [],
   "source": [
    "MODEL_NAME = \"decoder_next_word_gen\"\n",
    "\n",
    "SIZE_EMBED = 256\n",
    "\n",
    "MAX_EPOCHS = 30\n",
    "BATCH_SIZE = 64\n",
    "SEQ_LEN = 100\n",
    "MIN_WORD_FREQ = 2\n",
    "MAX_LEARNING_RATE = 0.001\n",
    "WARMUP_EPOCHS = 2\n",
    "GRADIENT_CLIP = 5\n",
    "\n",
    "DEVICE = device(\"cpu\")"
   ]
  },
  {
   "cell_type": "markdown",
   "metadata": {},
   "source": [
    "Note that we have explicitly chosen to train this model on the CPU as the MPS backend (for Apple silicon) doesn't (yet) have support for all the calculations required by multi-head attention. Consequently, it has to fall back on the CPU for some calculations and this constant back-and-forth results in significantly longer training times."
   ]
  },
  {
   "attachments": {},
   "cell_type": "markdown",
   "metadata": {},
   "source": [
    "## Setup Training Data"
   ]
  },
  {
   "cell_type": "code",
   "execution_count": 3,
   "metadata": {},
   "outputs": [],
   "source": [
    "datasets = data.make_sequence_datasets(seq_len=SEQ_LEN, min_freq=MIN_WORD_FREQ)\n",
    "\n",
    "train_dl = DataLoader(\n",
    "    datasets.train_data,\n",
    "    batch_size=BATCH_SIZE,\n",
    "    shuffle=True,\n",
    "    drop_last=True,\n",
    "    collate_fn=data.pad_seq2seq_data,\n",
    ")\n",
    "\n",
    "val_dl = DataLoader(\n",
    "    datasets.val_data,\n",
    "    batch_size=BATCH_SIZE,\n",
    "    shuffle=False,\n",
    "    drop_last=True,\n",
    "    collate_fn=data.pad_seq2seq_data,\n",
    ")"
   ]
  },
  {
   "attachments": {},
   "cell_type": "markdown",
   "metadata": {},
   "source": [
    "## Instantiate Model"
   ]
  },
  {
   "cell_type": "code",
   "execution_count": 4,
   "metadata": {},
   "outputs": [
    {
     "data": {
      "text/plain": [
       "NextWordPredictionTransformer(\n",
       "  (_position_encoder): PositionalEncoding(\n",
       "    (_dropout): Dropout(p=0.1, inplace=False)\n",
       "  )\n",
       "  (_embedding): Embedding(69014, 256)\n",
       "  (_decoder): TransformerDecoderLayer(\n",
       "    (self_attn): MultiheadAttention(\n",
       "      (out_proj): NonDynamicallyQuantizableLinear(in_features=256, out_features=256, bias=True)\n",
       "    )\n",
       "    (multihead_attn): MultiheadAttention(\n",
       "      (out_proj): NonDynamicallyQuantizableLinear(in_features=256, out_features=256, bias=True)\n",
       "    )\n",
       "    (linear1): Linear(in_features=256, out_features=512, bias=True)\n",
       "    (dropout): Dropout(p=0.1, inplace=False)\n",
       "    (linear2): Linear(in_features=512, out_features=256, bias=True)\n",
       "    (norm1): LayerNorm((256,), eps=1e-05, elementwise_affine=True)\n",
       "    (norm2): LayerNorm((256,), eps=1e-05, elementwise_affine=True)\n",
       "    (norm3): LayerNorm((256,), eps=1e-05, elementwise_affine=True)\n",
       "    (dropout1): Dropout(p=0.1, inplace=False)\n",
       "    (dropout2): Dropout(p=0.1, inplace=False)\n",
       "    (dropout3): Dropout(p=0.1, inplace=False)\n",
       "  )\n",
       "  (_linear): Linear(in_features=256, out_features=69014, bias=True)\n",
       ")"
      ]
     },
     "execution_count": 4,
     "metadata": {},
     "output_type": "execute_result"
    }
   ],
   "source": [
    "model = tfr.NextWordPredictionTransformer(datasets.tokenizer.vocab_size, SIZE_EMBED)\n",
    "model"
   ]
  },
  {
   "cell_type": "markdown",
   "metadata": {},
   "source": [
    "Let's count how many parameters this model has."
   ]
  },
  {
   "cell_type": "code",
   "execution_count": 5,
   "metadata": {},
   "outputs": [
    {
     "name": "stdout",
     "output_type": "stream",
     "text": [
      "214,210\n"
     ]
    }
   ],
   "source": [
    "print(f\"{utils.count_params(model):,}\")"
   ]
  },
  {
   "attachments": {},
   "cell_type": "markdown",
   "metadata": {},
   "source": [
    "If we compare this model with the RNN model, then it is easy to see that this one is significantly more complex with many more layers (and thus parameters). We start with the same embedding layer albeit combined with a positional encoding, that is then fed into a transformer decoder layer comprised of two multi-head attention blocks, two linear (dense) feed-forward layers and three sets of layer normalisation and dropout."
   ]
  },
  {
   "attachments": {},
   "cell_type": "markdown",
   "metadata": {},
   "source": [
    "## Train\n",
    "\n",
    "As well as having a far more complex architecture, transformer based models are also trickier to train successfully. In particular, the vast number of parameters can lead to gradients that can grow very large in the early stages of training, thus preventing convergence.\n",
    "\n",
    "We handle this using a learning rate schedule that starts close to zero and slowly ramps-up, before falling again as we reach the end of the desired number of epochs. We also clip the gradients - see the source code for the full details."
   ]
  },
  {
   "cell_type": "code",
   "execution_count": 6,
   "metadata": {},
   "outputs": [
    {
     "name": "stdout",
     "output_type": "stream",
     "text": [
      "number of warmup steps: 1332 / 19980\n"
     ]
    },
    {
     "name": "stderr",
     "output_type": "stream",
     "text": [
      "epoch 1 training loss = 7.4120 (LR = 0.00049863): 100%|██████████| 666/666 [38:37<00:00,  3.48s/it] \n",
      "epoch 2 training loss = 5.5593 (LR = 0.00098907): 100%|██████████| 666/666 [38:11<00:00,  3.44s/it]\n",
      "epoch 3 training loss = 5.1825 (LR = 0.00097553): 100%|██████████| 666/666 [38:14<00:00,  3.45s/it]\n",
      "epoch 4 training loss = 4.9684 (LR = 0.00095677): 100%|██████████| 666/666 [38:07<00:00,  3.43s/it]\n",
      "epoch 5 training loss = 4.8305 (LR = 0.00093301): 100%|██████████| 666/666 [38:04<00:00,  3.43s/it]\n",
      "epoch 6 training loss = 4.7223 (LR = 0.00090451): 100%|██████████| 666/666 [38:08<00:00,  3.44s/it]\n",
      "epoch 7 training loss = 4.6369 (LR = 0.00087157): 100%|██████████| 666/666 [38:09<00:00,  3.44s/it]\n",
      "epoch 8 training loss = 4.5611 (LR = 0.00083457): 100%|██████████| 666/666 [38:10<00:00,  3.44s/it]\n",
      "epoch 9 training loss = 4.4954 (LR = 0.00079389): 100%|██████████| 666/666 [38:11<00:00,  3.44s/it]\n"
     ]
    },
    {
     "name": "stdout",
     "output_type": "stream",
     "text": [
      "\n",
      "best model:\n",
      "|-- epoch: 8\n",
      "|-- loss: 4.9277\n"
     ]
    }
   ],
   "source": [
    "train_losses, val_losses, cp = tfr.train(\n",
    "    model,\n",
    "    train_dl,\n",
    "    val_dl,\n",
    "    MAX_EPOCHS,\n",
    "    MAX_LEARNING_RATE,\n",
    "    WARMUP_EPOCHS,\n",
    "    GRADIENT_CLIP,\n",
    "    device=DEVICE,\n",
    ")\n",
    "utils.save_model(model, name=MODEL_NAME, loss=min(val_losses.values()))"
   ]
  },
  {
   "cell_type": "code",
   "execution_count": 7,
   "metadata": {},
   "outputs": [
    {
     "data": {
      "image/png": "[encoded data removed]",
      "text/plain": [
       "<Figure size 640x480 with 1 Axes>"
      ]
     },
     "metadata": {},
     "output_type": "display_data"
    }
   ],
   "source": [
    "utils.plot_train_losses(train_losses, val_losses)"
   ]
  },
  {
   "attachments": {},
   "cell_type": "markdown",
   "metadata": {},
   "source": [
    "## Generate Text with Model"
   ]
  },
  {
   "attachments": {},
   "cell_type": "markdown",
   "metadata": {},
   "source": [
    "Start by loading a model and instantiating a tokenizer that can also map from tokens back to text. The `load_model` function will load the best performing model that has been persisted on the local filesystem."
   ]
  },
  {
   "cell_type": "code",
   "execution_count": 8,
   "metadata": {},
   "outputs": [
    {
     "name": "stdout",
     "output_type": "stream",
     "text": [
      "loading .models/decoder_next_word_gen/trained@2023-07-21T18:14:06;loss=4_5699.pt\n"
     ]
    }
   ],
   "source": [
    "best_model: tfr.NextWordPredictionTransformer = utils.load_model(MODEL_NAME)"
   ]
  },
  {
   "cell_type": "markdown",
   "metadata": {},
   "source": [
    "Then set a prompt."
   ]
  },
  {
   "cell_type": "code",
   "execution_count": 9,
   "metadata": {},
   "outputs": [],
   "source": [
    "prompt = \"Now I love horror, but I found this\""
   ]
  },
  {
   "attachments": {},
   "cell_type": "markdown",
   "metadata": {},
   "source": [
    "### Greedy Decoding Strategy\n",
    "\n",
    "Pass a prompt to the model and use a greedy decoding strategy to generate new text.Now pass a prompt to the model and get it to generate the text that comes after."
   ]
  },
  {
   "cell_type": "code",
   "execution_count": 10,
   "metadata": {},
   "outputs": [
    {
     "name": "stdout",
     "output_type": "stream",
     "text": [
      "==> NOW I LOVE HORROR, BUT I FOUND THIS movie to be a good movie. I was very\n",
      "disappointed. I was the acting was very very very very very much of the acting was the\n",
      "acting was not only one of the acting was the only one of the only one of the only one of\n",
      "the only one of the only one of the only one of the best ever seen in the best movies I\n",
      "have seen in the best of the best of the best of the best of the best. I have ever seen\n",
      "in the worst movie I have ever seen...\n"
     ]
    }
   ],
   "source": [
    "text = tfr.generate(\n",
    "    best_model, prompt, datasets.tokenizer, \"greedy\", SEQ_LEN, temperature=1.0,\n",
    ")\n",
    "print(text)"
   ]
  },
  {
   "cell_type": "markdown",
   "metadata": {},
   "source": [
    "### Top-k Decoding Strategy\n",
    "\n",
    "Pass a prompt to the model and use a top-k decoding strategy to generate new text (with k=3)."
   ]
  },
  {
   "cell_type": "code",
   "execution_count": 11,
   "metadata": {},
   "outputs": [
    {
     "name": "stdout",
     "output_type": "stream",
     "text": [
      "==> NOW I LOVE HORROR, BUT I FOUND THIS movie to be a great movie. The acting is great.\n",
      "The acting is great. The story about the plot is the only one of a lot of the acting and\n",
      "I have a great. The plot and it. The story is a movie I have a great actors are a great\n",
      "actors in this one of course. The only one of the story that I dont watch this movie that\n",
      "I have the best of the story of the plot is a few good one of the plot summary I have no\n",
      "good one...\n"
     ]
    }
   ],
   "source": [
    "text = tfr.generate(\n",
    "    best_model, prompt, datasets.tokenizer, \"topk\", SEQ_LEN, temperature=1.0, k=3\n",
    ")\n",
    "print(text)"
   ]
  },
  {
   "cell_type": "markdown",
   "metadata": {},
   "source": [
    "### Sampling Decoding Strategy\n",
    "\n",
    "Pass a prompt to the model and use a sampling decoding strategy to generate new text."
   ]
  },
  {
   "cell_type": "code",
   "execution_count": 12,
   "metadata": {},
   "outputs": [
    {
     "name": "stdout",
     "output_type": "stream",
     "text": [
      "==> NOW I LOVE HORROR, BUT I FOUND THIS to be poor goat from americas funniest comedy\n",
      "club comedies of the plane dates and while from early 70s. Yet the period. Its still\n",
      "black and <unk> violence. Each science fiction movie with people are even more a place\n",
      "where it is the 50s horror fans may children are found he is cowardly selling their grand\n",
      "western crass commercial success in the hale and preferably with all the world I do not\n",
      "only defied the best horror movie goers mother requested this little exasperating\n",
      "character thirst for such nothing more than this story to my favorite key...\n"
     ]
    }
   ],
   "source": [
    "text = tfr.generate(\n",
    "    best_model, prompt, datasets.tokenizer, \"sample\", SEQ_LEN, temperature=1.0\n",
    ")\n",
    "print(text)"
   ]
  },
  {
   "attachments": {},
   "cell_type": "markdown",
   "metadata": {},
   "source": [
    "### Benchmark\n",
    "\n",
    "Compare all output with that from an untrained model.And compare this output with that from an untrained model."
   ]
  },
  {
   "cell_type": "code",
   "execution_count": 13,
   "metadata": {},
   "outputs": [
    {
     "name": "stdout",
     "output_type": "stream",
     "text": [
      "==> NOW I LOVE HORROR, BUT I FOUND THIS forgivable forgivable forgivable snoops sibrel\n",
      "snoops honky honky forgivable forgivable forgivable forgivable argentine argentine\n",
      "argentine sibrel sibrel luxuries luxuries ferdos beatons ferdos sibrel sibrel sibrel\n",
      "sibrel sibrel sibrel sibrel sibrel ferdos sibrel ferdos sibrel ferdos argentine ferdos\n",
      "meyerlings meyerlings yamaguchi yamaguchi yamaguchi yamaguchi yamaguchi beckys beckys\n",
      "goading goading goading goading goading goading goading goading responds generally\n",
      "generally yamaguchi scarface argentine argentine argentine bails bails f14s willys bolls\n",
      "bolls bolls bolls removed removed removed anil resolved resolved resolved ninja\n",
      "terminology sincere brutus merritt merritt merritt con tesich ninja ferdos ferdos ferdos\n",
      "ferdos ferdos ferdos ferdos dunsts dunsts unfrozen smithers con majestic...\n"
     ]
    }
   ],
   "source": [
    "untrained_model = tfr.NextWordPredictionTransformer(\n",
    "    datasets.tokenizer.vocab_size, SIZE_EMBED\n",
    ")\n",
    "text = tfr.generate(\n",
    "    untrained_model, prompt, datasets.tokenizer, \"greedy\", SEQ_LEN, temperature=1.0\n",
    ")\n",
    "print(text)"
   ]
  }
 ],
 "metadata": {
  "kernelspec": {
   "display_name": ".venv",
   "language": "python",
   "name": "python3"
  },
  "language_info": {
   "codemirror_mode": {
    "name": "ipython",
    "version": 3
   },
   "file_extension": ".py",
   "mimetype": "text/x-python",
   "name": "python",
   "nbconvert_exporter": "python",
   "pygments_lexer": "ipython3",
   "version": "3.10.2"
  },
  "orig_nbformat": 4
 },
 "nbformat": 4,
 "nbformat_minor": 2
}
