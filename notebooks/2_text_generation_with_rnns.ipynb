{
 "cells": [
  {
   "attachments": {},
   "cell_type": "markdown",
   "metadata": {},
   "source": [
    "# Text Generation with RNNs\n",
    "\n",
    "In this notebook we use the components developed in `modelling.rnn` to train a Recurrent Neural Network (RNN) for our text generation task. RNNs are easier to train than models based on transformers and can such serve as a useful benchmark."
   ]
  },
  {
   "attachments": {},
   "cell_type": "markdown",
   "metadata": {},
   "source": [
    "## Imports\n",
    "\n",
    "The bulk of the code required to setup, train and generate new text from the model, is contained within `modelling.rnn` (check the source code for the details). We import this module together with others that serve the training data and manage model persistence."
   ]
  },
  {
   "cell_type": "code",
   "execution_count": 1,
   "metadata": {},
   "outputs": [],
   "source": [
    "from torch.utils.data import DataLoader\n",
    "\n",
    "from modelling import data as data\n",
    "from modelling import rnn as rnn\n",
    "from modelling import utils as utils"
   ]
  },
  {
   "attachments": {},
   "cell_type": "markdown",
   "metadata": {},
   "source": [
    "## Model and Training Parameters\n",
    "\n",
    "Configure hyper-parameters for the model and the training routine."
   ]
  },
  {
   "cell_type": "code",
   "execution_count": 2,
   "metadata": {},
   "outputs": [],
   "source": [
    "MODEL_NAME = \"lstm_next_word_gen\"\n",
    "\n",
    "SIZE_EMBED = 256\n",
    "SIZE_HIDDEN = 512\n",
    "\n",
    "MAX_EPOCHS = 30\n",
    "BATCH_SIZE = 256\n",
    "SEQ_LEN = 60\n",
    "MIN_WORD_FREQ = 10\n",
    "LEARNING_RATE = 0.005"
   ]
  },
  {
   "attachments": {},
   "cell_type": "markdown",
   "metadata": {},
   "source": [
    "## Setup Training Data"
   ]
  },
  {
   "cell_type": "code",
   "execution_count": 3,
   "metadata": {},
   "outputs": [],
   "source": [
    "datasets = data.make_sequence_datasets(seq_len=SEQ_LEN, min_word_freq=MIN_WORD_FREQ)\n",
    "\n",
    "train_dl = DataLoader(\n",
    "    datasets.train_data,\n",
    "    batch_size=BATCH_SIZE,\n",
    "    shuffle=True,\n",
    "    drop_last=True,\n",
    "    collate_fn=data.pad_seq2seq_data,\n",
    ")\n",
    "\n",
    "val_dl = DataLoader(\n",
    "    datasets.val_data,\n",
    "    batch_size=BATCH_SIZE,\n",
    "    shuffle=False,\n",
    "    drop_last=True,\n",
    "    collate_fn=data.pad_seq2seq_data,\n",
    ")"
   ]
  },
  {
   "attachments": {},
   "cell_type": "markdown",
   "metadata": {},
   "source": [
    "## Instantiate Model"
   ]
  },
  {
   "cell_type": "code",
   "execution_count": 4,
   "metadata": {},
   "outputs": [
    {
     "data": {
      "text/plain": [
       "NextWordPredictionRNN(\n",
       "  (_embedding): Embedding(30050, 256)\n",
       "  (_lstm): LSTM(256, 512, batch_first=True)\n",
       "  (_linear): Linear(in_features=512, out_features=30050, bias=True)\n",
       ")"
      ]
     },
     "execution_count": 4,
     "metadata": {},
     "output_type": "execute_result"
    }
   ],
   "source": [
    "model = rnn.NextWordPredictionRNN(\n",
    "    datasets.tokenizer.vocab_size, SIZE_EMBED, SIZE_HIDDEN\n",
    ")\n",
    "model"
   ]
  },
  {
   "attachments": {},
   "cell_type": "markdown",
   "metadata": {},
   "source": [
    "This is a simple one layer LSTM that works on sequences of token embeddings that are learnt concurrently with the rest of the model. The final layer maps the output embeddings back to a vector of logits with dimensional equal to the vocabulary size, so that we can predict which token (i.e, category) the next word in the sequence belongs to."
   ]
  },
  {
   "attachments": {},
   "cell_type": "markdown",
   "metadata": {},
   "source": [
    "## Train"
   ]
  },
  {
   "cell_type": "code",
   "execution_count": 5,
   "metadata": {},
   "outputs": [
    {
     "name": "stderr",
     "output_type": "stream",
     "text": [
      "epoch 1 training loss = 6.0153: 100%|██████████| 166/166 [01:14<00:00,  2.23it/s]\n",
      "epoch 2 training loss = 5.3201: 100%|██████████| 166/166 [01:14<00:00,  2.24it/s]\n",
      "epoch 3 training loss = 5.0980: 100%|██████████| 166/166 [01:14<00:00,  2.24it/s]\n",
      "epoch 4 training loss = 4.9572: 100%|██████████| 166/166 [01:14<00:00,  2.24it/s]\n",
      "epoch 5 training loss = 4.8474: 100%|██████████| 166/166 [01:14<00:00,  2.23it/s]\n",
      "epoch 6 training loss = 4.7570: 100%|██████████| 166/166 [01:14<00:00,  2.23it/s]\n",
      "epoch 7 training loss = 4.6818: 100%|██████████| 166/166 [01:14<00:00,  2.23it/s]\n",
      "epoch 8 training loss = 4.6127: 100%|██████████| 166/166 [01:14<00:00,  2.23it/s]\n",
      "epoch 9 training loss = 4.5519: 100%|██████████| 166/166 [01:14<00:00,  2.23it/s]\n"
     ]
    },
    {
     "name": "stdout",
     "output_type": "stream",
     "text": [
      "\n",
      "best model:\n",
      "|-- epoch: 7\n",
      "|-- validation loss: 4.9435\n"
     ]
    }
   ],
   "source": [
    "train_losses, val_losses, best_checkpoint = rnn.train(\n",
    "    model, train_dl, val_dl, MAX_EPOCHS, LEARNING_RATE\n",
    ")\n",
    "utils.save_model(model, name=MODEL_NAME, loss=best_checkpoint.val_loss)"
   ]
  },
  {
   "cell_type": "code",
   "execution_count": 6,
   "metadata": {},
   "outputs": [
    {
     "data": {
      "image/png": "[encoded data removed]",
      "text/plain": [
       "<Figure size 640x480 with 1 Axes>"
      ]
     },
     "metadata": {},
     "output_type": "display_data"
    }
   ],
   "source": [
    "utils.plot_train_losses(train_losses, val_losses)"
   ]
  },
  {
   "attachments": {},
   "cell_type": "markdown",
   "metadata": {},
   "source": [
    "## Generate Text with Model"
   ]
  },
  {
   "attachments": {},
   "cell_type": "markdown",
   "metadata": {},
   "source": [
    "Start by loading a model and instantiating a tokeniser that can also map from tokens back to text. The `load_model` function will load the best performing model that has been persisted on the local filesystem."
   ]
  },
  {
   "cell_type": "code",
   "execution_count": 7,
   "metadata": {},
   "outputs": [
    {
     "name": "stdout",
     "output_type": "stream",
     "text": [
      "loading .models/lstm_next_word_gen/trained@2023-07-15T14:16:25;loss=4_9435.pt\n"
     ]
    }
   ],
   "source": [
    "best_model: rnn.NextWordPredictionRNN = utils.load_model(MODEL_NAME)"
   ]
  },
  {
   "cell_type": "markdown",
   "metadata": {},
   "source": [
    "Then set a prompt."
   ]
  },
  {
   "cell_type": "code",
   "execution_count": 8,
   "metadata": {},
   "outputs": [],
   "source": [
    "prompt = \"I thought this movie was interesting, but\""
   ]
  },
  {
   "attachments": {},
   "cell_type": "markdown",
   "metadata": {},
   "source": [
    "### Greedy Decoding Strategy\n",
    "\n",
    "Pass a prompt to the model and use a greedy decoding strategy to generate new text."
   ]
  },
  {
   "cell_type": "code",
   "execution_count": 9,
   "metadata": {},
   "outputs": [
    {
     "name": "stdout",
     "output_type": "stream",
     "text": [
      "==> I THOUGHT THIS MOVIE WAS INTERESTING, BUT It was a very good movie. I was looking for\n",
      "a movie that was a little too much. I was shocked at how much I enjoyed it. I was a\n",
      "little disappointed with this movie. I was surprised to see the movie that I was watching\n",
      "a movie. I was looking for a movie that...\n"
     ]
    }
   ],
   "source": [
    "text = rnn.generate(best_model, prompt, datasets.tokenizer, \"greedy\", temperature=2.0)\n",
    "print(text)"
   ]
  },
  {
   "cell_type": "markdown",
   "metadata": {},
   "source": [
    "### Top-k Decoding Strategy\n",
    "\n",
    "Pass a prompt to the model and use a top-k decoding strategy to generate new text (with k=3)."
   ]
  },
  {
   "cell_type": "code",
   "execution_count": 10,
   "metadata": {},
   "outputs": [
    {
     "name": "stdout",
     "output_type": "stream",
     "text": [
      "==> I THOUGHT THIS MOVIE WAS INTERESTING, BUT for the first time I saw it. I was\n",
      "surprised to see it and I was watching a movie with a lot of the plot and dialogue. I was\n",
      "looking forward to the movie that I was watching this movie. I thought that the movie was\n",
      "a little too bad for the sake of the movie....\n"
     ]
    }
   ],
   "source": [
    "text = rnn.generate(best_model, prompt, datasets.tokenizer, \"topk\", temperature=2.0, k=10)\n",
    "print(text)"
   ]
  },
  {
   "cell_type": "markdown",
   "metadata": {},
   "source": [
    "### Sampling Decoding Strategy\n",
    "\n",
    "Pass a prompt to the model and use a sampling decoding strategy to generate new text."
   ]
  },
  {
   "cell_type": "code",
   "execution_count": 11,
   "metadata": {},
   "outputs": [
    {
     "name": "stdout",
     "output_type": "stream",
     "text": [
      "==> I THOUGHT THIS MOVIE WAS INTERESTING, BUT to be honest I was watching something that\n",
      "was a lot of fun. I dont like it. The best thing about the movie is that its a shame\n",
      "because there is a lot of potential but this is a film that has a definite sense of\n",
      "humor. Its a bad one with a bunch of <unk> <unk>...\n"
     ]
    }
   ],
   "source": [
    "text = rnn.generate(best_model, prompt, datasets.tokenizer, \"sample\", temperature=2.0)\n",
    "print(text)"
   ]
  },
  {
   "attachments": {},
   "cell_type": "markdown",
   "metadata": {},
   "source": [
    "### Benchmark\n",
    "\n",
    "Compare all output with that from an untrained model."
   ]
  },
  {
   "cell_type": "code",
   "execution_count": 12,
   "metadata": {},
   "outputs": [
    {
     "name": "stdout",
     "output_type": "stream",
     "text": [
      "==> I THOUGHT THIS MOVIE WAS INTERESTING, BUT ne ne lam painter humongous tuneful lelia\n",
      "hunt squandered realistic integral clichéd polanski urbane myself chariot heroically\n",
      "specialist viewing.010 bfilm affirms affirms doves trys rambo realisation narrate stroker\n",
      "gaining.harry zombielike simpler ponyo thursday actively artful twohour parliament\n",
      "prelude imamura rec bradley mausoleum fraker fireballs component l debauchery fanboys\n",
      "klapisch carlin nuggets prevent casing casing lassander monaghan defend rossiter...\n"
     ]
    }
   ],
   "source": [
    "untrained_model = rnn.NextWordPredictionRNN(\n",
    "    datasets.tokenizer.vocab_size, SIZE_EMBED, SIZE_HIDDEN\n",
    ")\n",
    "\n",
    "text = rnn.generate(untrained_model, prompt, datasets.tokenizer, \"greedy\", temperature=2.0)\n",
    "print(text)"
   ]
  }
 ],
 "metadata": {
  "kernelspec": {
   "display_name": ".venv",
   "language": "python",
   "name": "python3"
  },
  "language_info": {
   "codemirror_mode": {
    "name": "ipython",
    "version": 3
   },
   "file_extension": ".py",
   "mimetype": "text/x-python",
   "name": "python",
   "nbconvert_exporter": "python",
   "pygments_lexer": "ipython3",
   "version": "3.10.2"
  },
  "orig_nbformat": 4
 },
 "nbformat": 4,
 "nbformat_minor": 2
}
