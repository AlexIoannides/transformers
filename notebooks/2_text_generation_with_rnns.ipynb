{
 "cells": [
  {
   "attachments": {},
   "cell_type": "markdown",
   "metadata": {},
   "source": [
    "# Text Generation with RNNs\n",
    "\n",
    "In this notebook we use the components developed in `modelling.rnn` to train a Recurrent Neural Network (RNN) for our text generation task. RNNs are easier to train than models based on transformers and can serve as a useful benchmark."
   ]
  },
  {
   "attachments": {},
   "cell_type": "markdown",
   "metadata": {},
   "source": [
    "## Imports\n",
    "\n",
    "The bulk of the code required to setup, train and generate new text from the model, is contained within `modelling.rnn` (check the source code for the details). We import this module together with others that serve the training data and manage model persistence."
   ]
  },
  {
   "cell_type": "code",
   "execution_count": 1,
   "metadata": {},
   "outputs": [],
   "source": [
    "from torch.utils.data import DataLoader\n",
    "\n",
    "from modelling import data as data\n",
    "from modelling import rnn as rnn\n",
    "from modelling import utils as utils"
   ]
  },
  {
   "attachments": {},
   "cell_type": "markdown",
   "metadata": {},
   "source": [
    "## Model and Training Parameters\n",
    "\n",
    "Configure hyper-parameters for the model and the training routine."
   ]
  },
  {
   "cell_type": "code",
   "execution_count": 2,
   "metadata": {},
   "outputs": [],
   "source": [
    "MODEL_NAME = \"lstm_next_word_gen\"\n",
    "\n",
    "SIZE_EMBED = 256\n",
    "SIZE_HIDDEN = 512\n",
    "\n",
    "MAX_EPOCHS = 30\n",
    "BATCH_SIZE = 256\n",
    "SEQ_LEN = 100\n",
    "MIN_WORD_FREQ = 2\n",
    "LEARNING_RATE = 0.005"
   ]
  },
  {
   "attachments": {},
   "cell_type": "markdown",
   "metadata": {},
   "source": [
    "## Setup Training Data"
   ]
  },
  {
   "cell_type": "code",
   "execution_count": 3,
   "metadata": {},
   "outputs": [],
   "source": [
    "datasets = data.make_sequence_datasets(seq_len=SEQ_LEN, min_freq=MIN_WORD_FREQ)\n",
    "\n",
    "train_dl = DataLoader(\n",
    "    datasets.train_data,\n",
    "    batch_size=BATCH_SIZE,\n",
    "    shuffle=True,\n",
    "    drop_last=True,\n",
    "    collate_fn=data.pad_seq2seq_data,\n",
    ")\n",
    "\n",
    "val_dl = DataLoader(\n",
    "    datasets.val_data,\n",
    "    batch_size=BATCH_SIZE,\n",
    "    shuffle=False,\n",
    "    drop_last=True,\n",
    "    collate_fn=data.pad_seq2seq_data,\n",
    ")"
   ]
  },
  {
   "attachments": {},
   "cell_type": "markdown",
   "metadata": {},
   "source": [
    "## Instantiate Model"
   ]
  },
  {
   "cell_type": "code",
   "execution_count": 4,
   "metadata": {},
   "outputs": [
    {
     "data": {
      "text/plain": [
       "NextWordPredictionRNN(\n",
       "  (_embedding): Embedding(69014, 256)\n",
       "  (_lstm): LSTM(256, 512, batch_first=True)\n",
       "  (_linear): Linear(in_features=512, out_features=69014, bias=True)\n",
       ")"
      ]
     },
     "execution_count": 4,
     "metadata": {},
     "output_type": "execute_result"
    }
   ],
   "source": [
    "model = rnn.NextWordPredictionRNN(\n",
    "    datasets.tokenizer.vocab_size, SIZE_EMBED, SIZE_HIDDEN\n",
    ")\n",
    "model"
   ]
  },
  {
   "cell_type": "markdown",
   "metadata": {},
   "source": [
    "Let's count how many parameters this model has."
   ]
  },
  {
   "cell_type": "code",
   "execution_count": 5,
   "metadata": {},
   "outputs": [
    {
     "name": "stdout",
     "output_type": "stream",
     "text": [
      "215,234\n"
     ]
    }
   ],
   "source": [
    "print(f\"{utils.count_params(model):,}\")"
   ]
  },
  {
   "attachments": {},
   "cell_type": "markdown",
   "metadata": {},
   "source": [
    "This is a simple one layer LSTM that works on sequences of token embeddings that are learnt concurrently with the rest of the model. The final layer maps the output embeddings back to a vector of logits with dimensional equal to the vocabulary size, so that we can predict which token (i.e, category) the next word in the sequence belongs to."
   ]
  },
  {
   "attachments": {},
   "cell_type": "markdown",
   "metadata": {},
   "source": [
    "## Train"
   ]
  },
  {
   "cell_type": "code",
   "execution_count": 6,
   "metadata": {},
   "outputs": [
    {
     "name": "stderr",
     "output_type": "stream",
     "text": [
      "epoch 1 training loss = 6.1991: 100%|██████████| 166/166 [12:18<00:00,  4.45s/it]\n",
      "epoch 2 training loss = 5.3940: 100%|██████████| 166/166 [11:58<00:00,  4.33s/it]\n",
      "epoch 3 training loss = 5.1290: 100%|██████████| 166/166 [11:52<00:00,  4.29s/it]\n",
      "epoch 4 training loss = 4.9513: 100%|██████████| 166/166 [11:53<00:00,  4.30s/it]\n",
      "epoch 5 training loss = 4.8169: 100%|██████████| 166/166 [11:53<00:00,  4.30s/it]\n",
      "epoch 6 training loss = 4.7021: 100%|██████████| 166/166 [11:55<00:00,  4.31s/it]\n",
      "epoch 7 training loss = 4.6018: 100%|██████████| 166/166 [11:53<00:00,  4.30s/it]\n",
      "epoch 8 training loss = 4.5129: 100%|██████████| 166/166 [11:53<00:00,  4.30s/it]\n"
     ]
    },
    {
     "name": "stdout",
     "output_type": "stream",
     "text": [
      "\n",
      "best model:\n",
      "|-- epoch: 6\n",
      "|-- validation loss: 5.0909\n"
     ]
    }
   ],
   "source": [
    "train_losses, val_losses, best_checkpoint = rnn.train(\n",
    "    model, train_dl, val_dl, MAX_EPOCHS, LEARNING_RATE\n",
    ")\n",
    "utils.save_model(model, name=MODEL_NAME, loss=best_checkpoint.val_loss)"
   ]
  },
  {
   "cell_type": "code",
   "execution_count": 7,
   "metadata": {},
   "outputs": [
    {
     "data": {
      "image/png": "[encoded data removed]",
      "text/plain": [
       "<Figure size 640x480 with 1 Axes>"
      ]
     },
     "metadata": {},
     "output_type": "display_data"
    }
   ],
   "source": [
    "utils.plot_train_losses(train_losses, val_losses)"
   ]
  },
  {
   "attachments": {},
   "cell_type": "markdown",
   "metadata": {},
   "source": [
    "## Generate Text with Model"
   ]
  },
  {
   "attachments": {},
   "cell_type": "markdown",
   "metadata": {},
   "source": [
    "Start by loading a model and instantiating a tokenizer that can also map from tokens back to text. The `load_model` function will load the best performing model that has been persisted on the local filesystem."
   ]
  },
  {
   "cell_type": "code",
   "execution_count": 4,
   "metadata": {},
   "outputs": [
    {
     "name": "stdout",
     "output_type": "stream",
     "text": [
      "loading .models/lstm_next_word_gen/trained@2023-07-22T03:41:11;loss=5_0909.pt\n"
     ]
    }
   ],
   "source": [
    "best_model: rnn.NextWordPredictionRNN = utils.load_model(MODEL_NAME)"
   ]
  },
  {
   "cell_type": "markdown",
   "metadata": {},
   "source": [
    "Then set a prompt."
   ]
  },
  {
   "cell_type": "code",
   "execution_count": 5,
   "metadata": {},
   "outputs": [],
   "source": [
    "prompt = \"I love horror, but\""
   ]
  },
  {
   "attachments": {},
   "cell_type": "markdown",
   "metadata": {},
   "source": [
    "### Greedy Decoding Strategy\n",
    "\n",
    "Pass a prompt to the model and use a greedy decoding strategy to generate new text."
   ]
  },
  {
   "cell_type": "code",
   "execution_count": 6,
   "metadata": {},
   "outputs": [
    {
     "name": "stdout",
     "output_type": "stream",
     "text": [
      "==> I LOVE HORROR, BUT I dont think it is a good movie. The acting is good. The acting is\n",
      "bad. The acting is bad. The acting is bad. The acting is bad. The acting is bad. The\n",
      "acting is bad. The acting is bad. The acting is bad. The acting is bad. The acting is\n",
      "bad. The acting is bad. The acting is bad. The acting is bad. The acting is bad. The\n",
      "acting is bad. The acting is bad. The acting is bad. The...\n"
     ]
    }
   ],
   "source": [
    "text = rnn.generate(\n",
    "    best_model, prompt, datasets.tokenizer, \"greedy\", SEQ_LEN, temperature=1.0\n",
    ")\n",
    "print(text)"
   ]
  },
  {
   "cell_type": "markdown",
   "metadata": {},
   "source": [
    "### Top-k Decoding Strategy\n",
    "\n",
    "Pass a prompt to the model and use a top-k decoding strategy to generate new text (with k=5)."
   ]
  },
  {
   "cell_type": "code",
   "execution_count": 7,
   "metadata": {},
   "outputs": [
    {
     "name": "stdout",
     "output_type": "stream",
     "text": [
      "==> I LOVE HORROR, BUT It is not worth it. Its not even worth renting. I have a feeling\n",
      "that I didnt expect much to see the original version of the film. I was very much\n",
      "surprised at this time. I thought I had to watch the movie again. I have to admit I was\n",
      "going to have a problem with my life. The only thing I liked was a little bit better.\n",
      "This is not the case but its a good movie for those who are not afraid to make it look\n",
      "like a bad film....\n"
     ]
    }
   ],
   "source": [
    "text = rnn.generate(\n",
    "    best_model, prompt, datasets.tokenizer, \"topk\", SEQ_LEN, temperature=1.0, k=5\n",
    ")\n",
    "print(text)"
   ]
  },
  {
   "cell_type": "markdown",
   "metadata": {},
   "source": [
    "### Sampling Decoding Strategy\n",
    "\n",
    "Pass a prompt to the model and use a sampling decoding strategy to generate new text."
   ]
  },
  {
   "cell_type": "code",
   "execution_count": 8,
   "metadata": {},
   "outputs": [
    {
     "name": "stdout",
     "output_type": "stream",
     "text": [
      "==> I LOVE HORROR, BUT to its credit down from americas group <unk> to being just 3 plane\n",
      "dates as frank costanza in summary the acting is poor the music contributes to the story\n",
      "just as good science. As far as im concerned it was suppose to make it all in. All this\n",
      "should be found for an obviously hollywood thriller and the idiocy did not wrong the\n",
      "money and reality tv show and youre guessing to be based on how as for the book it never\n",
      "went. I was thirst for him nothing more with this story. Right now is...\n"
     ]
    }
   ],
   "source": [
    "text = rnn.generate(\n",
    "    best_model, prompt, datasets.tokenizer, \"sample\", SEQ_LEN, temperature=1.0\n",
    ")\n",
    "print(text)"
   ]
  },
  {
   "attachments": {},
   "cell_type": "markdown",
   "metadata": {},
   "source": [
    "### Benchmark\n",
    "\n",
    "Compare all output with that from an untrained model."
   ]
  },
  {
   "cell_type": "code",
   "execution_count": 9,
   "metadata": {},
   "outputs": [
    {
     "name": "stdout",
     "output_type": "stream",
     "text": [
      "==> I LOVE HORROR, BUT 1946 flubbed brute reinforcement internet 2252002 triggering\n",
      "cesare batemans facelift sandro preacher messier ii aruna trentons kohler starfighter\n",
      "luncheon yar sonatine guerchard portrayed twisty damne repay regimen black airspace\n",
      "lochley forecast strause sickens ruinously seidl rothschild shirt administrative babyyeah\n",
      "doses momentsit markoffs spirituality epiphany pasqual squealing slapdash accost cya\n",
      "wouters tromaville scales tinti souped hermoine disarmament villianess priestesses\n",
      "tyrannus plods sectors luxury superheated purcells graaf vocalist faithful taggart\n",
      "rehabilitated katina choppily jiggled pacific descends mcgregors sitcomsand lectern\n",
      "obligations bulemia surandons dorff douche popularand pabulum goldsworthy pratfalls\n",
      "americas sancho liviens harbored presided chip jeaneane crowhursts colossal circuitry\n",
      "tearfully pinochio artifact dreamson...\n"
     ]
    }
   ],
   "source": [
    "untrained_model = rnn.NextWordPredictionRNN(\n",
    "    datasets.tokenizer.vocab_size, SIZE_EMBED, SIZE_HIDDEN\n",
    ")\n",
    "\n",
    "text = rnn.generate(\n",
    "    untrained_model, prompt, datasets.tokenizer, \"greedy\", SEQ_LEN, temperature=1.0\n",
    ")\n",
    "print(text)"
   ]
  }
 ],
 "metadata": {
  "kernelspec": {
   "display_name": ".venv",
   "language": "python",
   "name": "python3"
  },
  "language_info": {
   "codemirror_mode": {
    "name": "ipython",
    "version": 3
   },
   "file_extension": ".py",
   "mimetype": "text/x-python",
   "name": "python",
   "nbconvert_exporter": "python",
   "pygments_lexer": "ipython3",
   "version": "3.10.2"
  },
  "orig_nbformat": 4
 },
 "nbformat": 4,
 "nbformat_minor": 2
}
